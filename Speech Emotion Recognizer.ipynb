{
 "cells": [
  {
   "cell_type": "code",
   "execution_count": 1,
   "id": "3be6f5fb",
   "metadata": {},
   "outputs": [
    {
     "name": "stdout",
     "output_type": "stream",
     "text": [
      "Done\n"
     ]
    }
   ],
   "source": [
    "#IMPORT THE LIBRARIES\n",
    "import pandas as pd\n",
    "import numpy as np\n",
    "\n",
    "import os\n",
    "import sys\n",
    "\n",
    "# librosa is a Python library for analyzing audio and music. It can be used to extract the data from the audio files we will see it later.\n",
    "import librosa\n",
    "import librosa.display\n",
    "import seaborn as sns\n",
    "import matplotlib\n",
    "import matplotlib.pyplot as plt\n",
    "\n",
    "from sklearn.preprocessing import StandardScaler, OneHotEncoder\n",
    "from sklearn.metrics import confusion_matrix, classification_report\n",
    "from sklearn.model_selection import train_test_split\n",
    "\n",
    "# to play the audio files\n",
    "import IPython.display as ipd\n",
    "from IPython.display import Audio\n",
    "import keras\n",
    "from keras.preprocessing import sequence\n",
    "from keras.models import Sequential\n",
    "from keras.layers import Dense, Embedding\n",
    "from keras.layers import LSTM,BatchNormalization , GRU\n",
    "from keras.preprocessing.text import Tokenizer\n",
    "from keras.utils import pad_sequences\n",
    "from tensorflow.keras.utils import to_categorical\n",
    "from keras.layers import Input, Flatten, Dropout, Activation\n",
    "from keras.layers import Conv1D, MaxPooling1D, AveragePooling1D\n",
    "from keras.models import Model\n",
    "from keras.callbacks import ModelCheckpoint\n",
    "from tensorflow.keras.optimizers import SGD\n",
    "\n",
    "\n",
    "\n",
    "import warnings\n",
    "if not sys.warnoptions:\n",
    "    warnings.simplefilter(\"ignore\")\n",
    "warnings.filterwarnings(\"ignore\", category=DeprecationWarning) \n",
    "import tensorflow as tf \n",
    "print (\"Done\")"
   ]
  },
  {
   "cell_type": "code",
   "execution_count": 2,
   "id": "18e68e0a",
   "metadata": {},
   "outputs": [],
   "source": [
    "RAVDESS = \"ravdess-emotional-speech-audio\"\n",
    "CREMA = \"cremad/AudioWAV/\"\n",
    "TESS = \"tess\"\n",
    "SAVEE = \"savee/ALL/\""
   ]
  },
  {
   "cell_type": "markdown",
   "id": "3c1d7db0",
   "metadata": {},
   "source": [
    "<h3>RAVDESS</h3>"
   ]
  },
  {
   "cell_type": "code",
   "execution_count": 3,
   "id": "031bacc6",
   "metadata": {},
   "outputs": [
    {
     "data": {
      "text/html": [
       "<div>\n",
       "<style scoped>\n",
       "    .dataframe tbody tr th:only-of-type {\n",
       "        vertical-align: middle;\n",
       "    }\n",
       "\n",
       "    .dataframe tbody tr th {\n",
       "        vertical-align: top;\n",
       "    }\n",
       "\n",
       "    .dataframe thead th {\n",
       "        text-align: right;\n",
       "    }\n",
       "</style>\n",
       "<table border=\"1\" class=\"dataframe\">\n",
       "  <thead>\n",
       "    <tr style=\"text-align: right;\">\n",
       "      <th></th>\n",
       "      <th>path</th>\n",
       "      <th>sex</th>\n",
       "      <th>emotion</th>\n",
       "      <th>dataset</th>\n",
       "    </tr>\n",
       "  </thead>\n",
       "  <tbody>\n",
       "    <tr>\n",
       "      <th>0</th>\n",
       "      <td>ravdess-emotional-speech-audio/audio_speech_ac...</td>\n",
       "      <td>male</td>\n",
       "      <td>neutral</td>\n",
       "      <td>RAVDESS</td>\n",
       "    </tr>\n",
       "    <tr>\n",
       "      <th>1</th>\n",
       "      <td>ravdess-emotional-speech-audio/audio_speech_ac...</td>\n",
       "      <td>female</td>\n",
       "      <td>neutral</td>\n",
       "      <td>RAVDESS</td>\n",
       "    </tr>\n",
       "    <tr>\n",
       "      <th>2</th>\n",
       "      <td>ravdess-emotional-speech-audio/audio_speech_ac...</td>\n",
       "      <td>male</td>\n",
       "      <td>neutral</td>\n",
       "      <td>RAVDESS</td>\n",
       "    </tr>\n",
       "    <tr>\n",
       "      <th>3</th>\n",
       "      <td>ravdess-emotional-speech-audio/audio_speech_ac...</td>\n",
       "      <td>female</td>\n",
       "      <td>neutral</td>\n",
       "      <td>RAVDESS</td>\n",
       "    </tr>\n",
       "    <tr>\n",
       "      <th>4</th>\n",
       "      <td>ravdess-emotional-speech-audio/audio_speech_ac...</td>\n",
       "      <td>male</td>\n",
       "      <td>neutral</td>\n",
       "      <td>RAVDESS</td>\n",
       "    </tr>\n",
       "  </tbody>\n",
       "</table>\n",
       "</div>"
      ],
      "text/plain": [
       "                                                path     sex  emotion  dataset\n",
       "0  ravdess-emotional-speech-audio/audio_speech_ac...    male  neutral  RAVDESS\n",
       "1  ravdess-emotional-speech-audio/audio_speech_ac...  female  neutral  RAVDESS\n",
       "2  ravdess-emotional-speech-audio/audio_speech_ac...    male  neutral  RAVDESS\n",
       "3  ravdess-emotional-speech-audio/audio_speech_ac...  female  neutral  RAVDESS\n",
       "4  ravdess-emotional-speech-audio/audio_speech_ac...    male  neutral  RAVDESS"
      ]
     },
     "execution_count": 3,
     "metadata": {},
     "output_type": "execute_result"
    }
   ],
   "source": [
    "ravdess_dir_lis = os.listdir(RAVDESS)\n",
    "path_list = []\n",
    "gender_list = []\n",
    "emotion_list = []\n",
    "\n",
    "# Creating a key value according to the file names\n",
    "emotion_dic = {\n",
    "    '03' : 'happy',\n",
    "    '01' : 'neutral',\n",
    "    '04' : 'sad',\n",
    "    '05' : 'angry',\n",
    "    '06' : 'fear',\n",
    "    '07' : 'disgust',\n",
    "}\n",
    "\n",
    "for directory in ravdess_dir_lis:\n",
    "    actor_files = os.listdir(os.path.join(RAVDESS, directory))\n",
    "    for audio_file in actor_files: \n",
    "        part = audio_file.split('.')[0]\n",
    "        key = part.split('-')[2]\n",
    "        if key in emotion_dic:\n",
    "            gender_code = int(part.split('-')[6])\n",
    "            path_list.append(f\"{RAVDESS}/{directory}/{audio_file}\")\n",
    "            gender_list.append('female' if gender_code & 1 == 0 else 'male')\n",
    "            emotion_list.append(emotion_dic[key])\n",
    "            \n",
    "ravdess_df = pd.concat([\n",
    "    pd.DataFrame(path_list, columns=['path']),\n",
    "    pd.DataFrame(gender_list, columns=['sex']),\n",
    "    pd.DataFrame(emotion_list, columns=['emotion'])\n",
    "], axis=1)\n",
    "\n",
    "ravdess_df['dataset'] = 'RAVDESS'\n",
    "\n",
    "ravdess_df.head()"
   ]
  },
  {
   "cell_type": "markdown",
   "id": "7c732a67",
   "metadata": {},
   "source": [
    "<h3>TESS</h3>"
   ]
  },
  {
   "cell_type": "code",
   "execution_count": 4,
   "id": "61b3da6f",
   "metadata": {},
   "outputs": [
    {
     "data": {
      "text/html": [
       "<div>\n",
       "<style scoped>\n",
       "    .dataframe tbody tr th:only-of-type {\n",
       "        vertical-align: middle;\n",
       "    }\n",
       "\n",
       "    .dataframe tbody tr th {\n",
       "        vertical-align: top;\n",
       "    }\n",
       "\n",
       "    .dataframe thead th {\n",
       "        text-align: right;\n",
       "    }\n",
       "</style>\n",
       "<table border=\"1\" class=\"dataframe\">\n",
       "  <thead>\n",
       "    <tr style=\"text-align: right;\">\n",
       "      <th></th>\n",
       "      <th>path</th>\n",
       "      <th>sex</th>\n",
       "      <th>emotion</th>\n",
       "      <th>dataset</th>\n",
       "    </tr>\n",
       "  </thead>\n",
       "  <tbody>\n",
       "    <tr>\n",
       "      <th>0</th>\n",
       "      <td>tess/Audio/OAF_back_angry.wav</td>\n",
       "      <td>female</td>\n",
       "      <td>angry</td>\n",
       "      <td>TESS</td>\n",
       "    </tr>\n",
       "    <tr>\n",
       "      <th>1</th>\n",
       "      <td>tess/Audio/OAF_back_disgust.wav</td>\n",
       "      <td>female</td>\n",
       "      <td>disgust</td>\n",
       "      <td>TESS</td>\n",
       "    </tr>\n",
       "    <tr>\n",
       "      <th>2</th>\n",
       "      <td>tess/Audio/OAF_back_fear.wav</td>\n",
       "      <td>female</td>\n",
       "      <td>fear</td>\n",
       "      <td>TESS</td>\n",
       "    </tr>\n",
       "    <tr>\n",
       "      <th>3</th>\n",
       "      <td>tess/Audio/OAF_back_happy.wav</td>\n",
       "      <td>female</td>\n",
       "      <td>happy</td>\n",
       "      <td>TESS</td>\n",
       "    </tr>\n",
       "    <tr>\n",
       "      <th>4</th>\n",
       "      <td>tess/Audio/OAF_back_neutral.wav</td>\n",
       "      <td>female</td>\n",
       "      <td>neutral</td>\n",
       "      <td>TESS</td>\n",
       "    </tr>\n",
       "  </tbody>\n",
       "</table>\n",
       "</div>"
      ],
      "text/plain": [
       "                              path     sex  emotion dataset\n",
       "0    tess/Audio/OAF_back_angry.wav  female    angry    TESS\n",
       "1  tess/Audio/OAF_back_disgust.wav  female  disgust    TESS\n",
       "2     tess/Audio/OAF_back_fear.wav  female     fear    TESS\n",
       "3    tess/Audio/OAF_back_happy.wav  female    happy    TESS\n",
       "4  tess/Audio/OAF_back_neutral.wav  female  neutral    TESS"
      ]
     },
     "execution_count": 4,
     "metadata": {},
     "output_type": "execute_result"
    }
   ],
   "source": [
    "tess_dir_list = os.listdir(TESS)\n",
    "path_list = []\n",
    "gender_list = []\n",
    "emotion_list = [] \n",
    "\n",
    "# Creating a key value according to the file names\n",
    "emotion_dic = {\n",
    "    'happy'   : 'happy',\n",
    "    'neutral' : 'neutral',\n",
    "    'sad'     : 'sad',\n",
    "    'Sad'     : 'sad',\n",
    "    'angry'   : 'angry',\n",
    "    'fear'    : 'fear',\n",
    "    'disgust'  : 'disgust',\n",
    "}\n",
    "\n",
    "for directory in tess_dir_list:\n",
    "    audio_files = os.listdir(os.path.join(TESS, directory))\n",
    "    for audio_file in audio_files:\n",
    "        part = audio_file.split('.')[0]\n",
    "        key = part.split('_')[2]\n",
    "        if key in emotion_dic:\n",
    "            path_list.append(f\"{TESS}/{directory}/{audio_file}\") \n",
    "            gender_list.append('female') # female only dataset\n",
    "            emotion_list.append(emotion_dic[key])\n",
    "            \n",
    "tess_df = pd.concat([\n",
    "    pd.DataFrame(path_list, columns=['path']),\n",
    "    pd.DataFrame(gender_list, columns=['sex']),\n",
    "    pd.DataFrame(emotion_list, columns=['emotion'])\n",
    "], axis=1)\n",
    "\n",
    "tess_df['dataset'] = 'TESS'\n",
    "tess_df.head()"
   ]
  },
  {
   "cell_type": "markdown",
   "id": "08b9516c",
   "metadata": {},
   "source": [
    "<h3>CREMA-D</h3>"
   ]
  },
  {
   "cell_type": "code",
   "execution_count": 5,
   "id": "eab13790",
   "metadata": {},
   "outputs": [
    {
     "data": {
      "text/plain": [
       "male_angry        671\n",
       "male_disgust      671\n",
       "male_fear         671\n",
       "male_happy        671\n",
       "male_sad          671\n",
       "female_angry      600\n",
       "female_disgust    600\n",
       "female_fear       600\n",
       "female_happy      600\n",
       "female_sad        600\n",
       "male_neutral      575\n",
       "female_neutral    512\n",
       "Name: labels, dtype: int64"
      ]
     },
     "execution_count": 5,
     "metadata": {},
     "output_type": "execute_result"
    }
   ],
   "source": [
    "crema_dir_list = os.listdir(CREMA)\n",
    "gender = []\n",
    "emotion = []\n",
    "path = []\n",
    "female = [1002,1003,1004,1006,1007,1008,1009,1010,1012,1013,1018,1020,1021,1024,1025,1028,1029,1030,1037,1043,1046,1047,1049,\n",
    "          1052,1053,1054,1055,1056,1058,1060,1061,1063,1072,1073,1074,1075,1076,1078,1079,1082,1084,1089,1091]\n",
    "\n",
    "# Creating a case list to seggregate the files\n",
    "for i in crema_dir_list: \n",
    "    part = i.split('_')\n",
    "    if int(part[0]) in female:\n",
    "        temp = 'female'\n",
    "    else:\n",
    "        temp = 'male'\n",
    "    gender.append(temp)\n",
    "    if part[2] == 'SAD' and temp == 'male':\n",
    "        emotion.append('male_sad')\n",
    "    elif part[2] == 'ANG' and temp == 'male':\n",
    "        emotion.append('male_angry')\n",
    "    elif part[2] == 'DIS' and temp == 'male':\n",
    "        emotion.append('male_disgust')\n",
    "    elif part[2] == 'FEA' and temp == 'male':\n",
    "        emotion.append('male_fear')\n",
    "    elif part[2] == 'HAP' and temp == 'male':\n",
    "        emotion.append('male_happy')\n",
    "    elif part[2] == 'NEU' and temp == 'male':\n",
    "        emotion.append('male_neutral')\n",
    "    elif part[2] == 'SAD' and temp == 'female':\n",
    "        emotion.append('female_sad')\n",
    "    elif part[2] == 'ANG' and temp == 'female':\n",
    "        emotion.append('female_angry')\n",
    "    elif part[2] == 'DIS' and temp == 'female':\n",
    "        emotion.append('female_disgust')\n",
    "    elif part[2] == 'FEA' and temp == 'female':\n",
    "        emotion.append('female_fear')\n",
    "    elif part[2] == 'HAP' and temp == 'female':\n",
    "        emotion.append('female_happy')\n",
    "    elif part[2] == 'NEU' and temp == 'female':\n",
    "        emotion.append('female_neutral')\n",
    "    else:\n",
    "        emotion.append('Unknown')\n",
    "    path.append(CREMA + i)\n",
    "    \n",
    "CREMA_df = pd.DataFrame(emotion, columns = ['labels'])\n",
    "CREMA_df = pd.concat([CREMA_df,pd.DataFrame(path, columns = ['path'])],axis=1)\n",
    "CREMA_df[['sex', 'emotion']] = CREMA_df.labels.str.split(\"_\", expand = True)\n",
    "CREMA_df['dataset'] = 'CREMA'\n",
    "CREMA_df.labels.value_counts()"
   ]
  },
  {
   "cell_type": "code",
   "execution_count": 6,
   "id": "bd482b4b",
   "metadata": {},
   "outputs": [],
   "source": [
    "CREMA_df = CREMA_df.drop(['labels'], axis=1)"
   ]
  },
  {
   "cell_type": "code",
   "execution_count": 7,
   "id": "d8a27abe",
   "metadata": {},
   "outputs": [
    {
     "data": {
      "text/html": [
       "<div>\n",
       "<style scoped>\n",
       "    .dataframe tbody tr th:only-of-type {\n",
       "        vertical-align: middle;\n",
       "    }\n",
       "\n",
       "    .dataframe tbody tr th {\n",
       "        vertical-align: top;\n",
       "    }\n",
       "\n",
       "    .dataframe thead th {\n",
       "        text-align: right;\n",
       "    }\n",
       "</style>\n",
       "<table border=\"1\" class=\"dataframe\">\n",
       "  <thead>\n",
       "    <tr style=\"text-align: right;\">\n",
       "      <th></th>\n",
       "      <th>path</th>\n",
       "      <th>sex</th>\n",
       "      <th>emotion</th>\n",
       "      <th>dataset</th>\n",
       "    </tr>\n",
       "  </thead>\n",
       "  <tbody>\n",
       "    <tr>\n",
       "      <th>0</th>\n",
       "      <td>cremad/AudioWAV/1001_DFA_ANG_XX.wav</td>\n",
       "      <td>male</td>\n",
       "      <td>angry</td>\n",
       "      <td>CREMA</td>\n",
       "    </tr>\n",
       "    <tr>\n",
       "      <th>1</th>\n",
       "      <td>cremad/AudioWAV/1001_DFA_DIS_XX.wav</td>\n",
       "      <td>male</td>\n",
       "      <td>disgust</td>\n",
       "      <td>CREMA</td>\n",
       "    </tr>\n",
       "    <tr>\n",
       "      <th>2</th>\n",
       "      <td>cremad/AudioWAV/1001_DFA_FEA_XX.wav</td>\n",
       "      <td>male</td>\n",
       "      <td>fear</td>\n",
       "      <td>CREMA</td>\n",
       "    </tr>\n",
       "    <tr>\n",
       "      <th>3</th>\n",
       "      <td>cremad/AudioWAV/1001_DFA_HAP_XX.wav</td>\n",
       "      <td>male</td>\n",
       "      <td>happy</td>\n",
       "      <td>CREMA</td>\n",
       "    </tr>\n",
       "    <tr>\n",
       "      <th>4</th>\n",
       "      <td>cremad/AudioWAV/1001_DFA_NEU_XX.wav</td>\n",
       "      <td>male</td>\n",
       "      <td>neutral</td>\n",
       "      <td>CREMA</td>\n",
       "    </tr>\n",
       "    <tr>\n",
       "      <th>...</th>\n",
       "      <td>...</td>\n",
       "      <td>...</td>\n",
       "      <td>...</td>\n",
       "      <td>...</td>\n",
       "    </tr>\n",
       "    <tr>\n",
       "      <th>7437</th>\n",
       "      <td>cremad/AudioWAV/1091_WSI_DIS_XX.wav</td>\n",
       "      <td>female</td>\n",
       "      <td>disgust</td>\n",
       "      <td>CREMA</td>\n",
       "    </tr>\n",
       "    <tr>\n",
       "      <th>7438</th>\n",
       "      <td>cremad/AudioWAV/1091_WSI_FEA_XX.wav</td>\n",
       "      <td>female</td>\n",
       "      <td>fear</td>\n",
       "      <td>CREMA</td>\n",
       "    </tr>\n",
       "    <tr>\n",
       "      <th>7439</th>\n",
       "      <td>cremad/AudioWAV/1091_WSI_HAP_XX.wav</td>\n",
       "      <td>female</td>\n",
       "      <td>happy</td>\n",
       "      <td>CREMA</td>\n",
       "    </tr>\n",
       "    <tr>\n",
       "      <th>7440</th>\n",
       "      <td>cremad/AudioWAV/1091_WSI_NEU_XX.wav</td>\n",
       "      <td>female</td>\n",
       "      <td>neutral</td>\n",
       "      <td>CREMA</td>\n",
       "    </tr>\n",
       "    <tr>\n",
       "      <th>7441</th>\n",
       "      <td>cremad/AudioWAV/1091_WSI_SAD_XX.wav</td>\n",
       "      <td>female</td>\n",
       "      <td>sad</td>\n",
       "      <td>CREMA</td>\n",
       "    </tr>\n",
       "  </tbody>\n",
       "</table>\n",
       "<p>7442 rows × 4 columns</p>\n",
       "</div>"
      ],
      "text/plain": [
       "                                     path     sex  emotion dataset\n",
       "0     cremad/AudioWAV/1001_DFA_ANG_XX.wav    male    angry   CREMA\n",
       "1     cremad/AudioWAV/1001_DFA_DIS_XX.wav    male  disgust   CREMA\n",
       "2     cremad/AudioWAV/1001_DFA_FEA_XX.wav    male     fear   CREMA\n",
       "3     cremad/AudioWAV/1001_DFA_HAP_XX.wav    male    happy   CREMA\n",
       "4     cremad/AudioWAV/1001_DFA_NEU_XX.wav    male  neutral   CREMA\n",
       "...                                   ...     ...      ...     ...\n",
       "7437  cremad/AudioWAV/1091_WSI_DIS_XX.wav  female  disgust   CREMA\n",
       "7438  cremad/AudioWAV/1091_WSI_FEA_XX.wav  female     fear   CREMA\n",
       "7439  cremad/AudioWAV/1091_WSI_HAP_XX.wav  female    happy   CREMA\n",
       "7440  cremad/AudioWAV/1091_WSI_NEU_XX.wav  female  neutral   CREMA\n",
       "7441  cremad/AudioWAV/1091_WSI_SAD_XX.wav  female      sad   CREMA\n",
       "\n",
       "[7442 rows x 4 columns]"
      ]
     },
     "execution_count": 7,
     "metadata": {},
     "output_type": "execute_result"
    }
   ],
   "source": [
    "CREMA_df"
   ]
  },
  {
   "cell_type": "markdown",
   "id": "2b1e8312",
   "metadata": {},
   "source": [
    "<h3>SAVEE</h3>"
   ]
  },
  {
   "cell_type": "code",
   "execution_count": 8,
   "id": "b94554de",
   "metadata": {},
   "outputs": [
    {
     "data": {
      "text/html": [
       "<div>\n",
       "<style scoped>\n",
       "    .dataframe tbody tr th:only-of-type {\n",
       "        vertical-align: middle;\n",
       "    }\n",
       "\n",
       "    .dataframe tbody tr th {\n",
       "        vertical-align: top;\n",
       "    }\n",
       "\n",
       "    .dataframe thead th {\n",
       "        text-align: right;\n",
       "    }\n",
       "</style>\n",
       "<table border=\"1\" class=\"dataframe\">\n",
       "  <thead>\n",
       "    <tr style=\"text-align: right;\">\n",
       "      <th></th>\n",
       "      <th>path</th>\n",
       "      <th>sex</th>\n",
       "      <th>emotion</th>\n",
       "      <th>dataset</th>\n",
       "    </tr>\n",
       "  </thead>\n",
       "  <tbody>\n",
       "    <tr>\n",
       "      <th>0</th>\n",
       "      <td>savee/ALL/DC_a01.wav</td>\n",
       "      <td>male</td>\n",
       "      <td>angry</td>\n",
       "      <td>SAVEE</td>\n",
       "    </tr>\n",
       "    <tr>\n",
       "      <th>1</th>\n",
       "      <td>savee/ALL/DC_a02.wav</td>\n",
       "      <td>male</td>\n",
       "      <td>angry</td>\n",
       "      <td>SAVEE</td>\n",
       "    </tr>\n",
       "    <tr>\n",
       "      <th>2</th>\n",
       "      <td>savee/ALL/DC_a03.wav</td>\n",
       "      <td>male</td>\n",
       "      <td>angry</td>\n",
       "      <td>SAVEE</td>\n",
       "    </tr>\n",
       "    <tr>\n",
       "      <th>3</th>\n",
       "      <td>savee/ALL/DC_a04.wav</td>\n",
       "      <td>male</td>\n",
       "      <td>angry</td>\n",
       "      <td>SAVEE</td>\n",
       "    </tr>\n",
       "    <tr>\n",
       "      <th>4</th>\n",
       "      <td>savee/ALL/DC_a05.wav</td>\n",
       "      <td>male</td>\n",
       "      <td>angry</td>\n",
       "      <td>SAVEE</td>\n",
       "    </tr>\n",
       "  </tbody>\n",
       "</table>\n",
       "</div>"
      ],
      "text/plain": [
       "                   path   sex emotion dataset\n",
       "0  savee/ALL/DC_a01.wav  male   angry   SAVEE\n",
       "1  savee/ALL/DC_a02.wav  male   angry   SAVEE\n",
       "2  savee/ALL/DC_a03.wav  male   angry   SAVEE\n",
       "3  savee/ALL/DC_a04.wav  male   angry   SAVEE\n",
       "4  savee/ALL/DC_a05.wav  male   angry   SAVEE"
      ]
     },
     "execution_count": 8,
     "metadata": {},
     "output_type": "execute_result"
    }
   ],
   "source": [
    "savee_dir_list = os.listdir(SAVEE)\n",
    "path_list = []\n",
    "gender_list = []\n",
    "emotion_list = []\n",
    "\n",
    "# Creating a key value according to the file names\n",
    "emotion_dic = {\n",
    "    'h'  : 'happy',\n",
    "    'n'  : 'neutral',\n",
    "    'sa' : 'sad',\n",
    "    'a'  : 'angry',\n",
    "    'f'  : 'fear',\n",
    "    'd'  : 'disgust'\n",
    "}\n",
    "\n",
    "for audio_file in savee_dir_list:\n",
    "    part = audio_file.split('_')[1]\n",
    "    key = part[:-6]\n",
    "    if key in emotion_dic:\n",
    "        path_list.append(f\"{SAVEE}{audio_file}\")\n",
    "        gender_list.append('male') # male only dataset\n",
    "        emotion_list.append(emotion_dic[key])\n",
    "        \n",
    "savee_df = pd.concat([\n",
    "    pd.DataFrame(path_list, columns=['path']),\n",
    "    pd.DataFrame(gender_list, columns=['sex']),\n",
    "    pd.DataFrame(emotion_list, columns=['emotion'])\n",
    "], axis=1)\n",
    "\n",
    "savee_df['dataset'] = 'SAVEE'\n",
    "savee_df.head()"
   ]
  },
  {
   "cell_type": "code",
   "execution_count": 9,
   "id": "e960d27e",
   "metadata": {},
   "outputs": [
    {
     "data": {
      "text/html": [
       "<div>\n",
       "<style scoped>\n",
       "    .dataframe tbody tr th:only-of-type {\n",
       "        vertical-align: middle;\n",
       "    }\n",
       "\n",
       "    .dataframe tbody tr th {\n",
       "        vertical-align: top;\n",
       "    }\n",
       "\n",
       "    .dataframe thead th {\n",
       "        text-align: right;\n",
       "    }\n",
       "</style>\n",
       "<table border=\"1\" class=\"dataframe\">\n",
       "  <thead>\n",
       "    <tr style=\"text-align: right;\">\n",
       "      <th></th>\n",
       "      <th>path</th>\n",
       "      <th>sex</th>\n",
       "      <th>emotion</th>\n",
       "      <th>dataset</th>\n",
       "    </tr>\n",
       "  </thead>\n",
       "  <tbody>\n",
       "    <tr>\n",
       "      <th>0</th>\n",
       "      <td>ravdess-emotional-speech-audio/audio_speech_ac...</td>\n",
       "      <td>male</td>\n",
       "      <td>neutral</td>\n",
       "      <td>RAVDESS</td>\n",
       "    </tr>\n",
       "    <tr>\n",
       "      <th>1</th>\n",
       "      <td>ravdess-emotional-speech-audio/audio_speech_ac...</td>\n",
       "      <td>female</td>\n",
       "      <td>neutral</td>\n",
       "      <td>RAVDESS</td>\n",
       "    </tr>\n",
       "    <tr>\n",
       "      <th>2</th>\n",
       "      <td>ravdess-emotional-speech-audio/audio_speech_ac...</td>\n",
       "      <td>male</td>\n",
       "      <td>neutral</td>\n",
       "      <td>RAVDESS</td>\n",
       "    </tr>\n",
       "    <tr>\n",
       "      <th>3</th>\n",
       "      <td>ravdess-emotional-speech-audio/audio_speech_ac...</td>\n",
       "      <td>female</td>\n",
       "      <td>neutral</td>\n",
       "      <td>RAVDESS</td>\n",
       "    </tr>\n",
       "    <tr>\n",
       "      <th>4</th>\n",
       "      <td>ravdess-emotional-speech-audio/audio_speech_ac...</td>\n",
       "      <td>male</td>\n",
       "      <td>neutral</td>\n",
       "      <td>RAVDESS</td>\n",
       "    </tr>\n",
       "  </tbody>\n",
       "</table>\n",
       "</div>"
      ],
      "text/plain": [
       "                                                path     sex  emotion  dataset\n",
       "0  ravdess-emotional-speech-audio/audio_speech_ac...    male  neutral  RAVDESS\n",
       "1  ravdess-emotional-speech-audio/audio_speech_ac...  female  neutral  RAVDESS\n",
       "2  ravdess-emotional-speech-audio/audio_speech_ac...    male  neutral  RAVDESS\n",
       "3  ravdess-emotional-speech-audio/audio_speech_ac...  female  neutral  RAVDESS\n",
       "4  ravdess-emotional-speech-audio/audio_speech_ac...    male  neutral  RAVDESS"
      ]
     },
     "execution_count": 9,
     "metadata": {},
     "output_type": "execute_result"
    }
   ],
   "source": [
    "# Combining the individual dataframes into a single dataframe\n",
    "df = pd.concat([\n",
    "    ravdess_df, \n",
    "    CREMA_df, \n",
    "    tess_df, \n",
    "    savee_df\n",
    "], axis=0)\n",
    "df.head()"
   ]
  },
  {
   "cell_type": "markdown",
   "id": "8a4e303b",
   "metadata": {},
   "source": [
    "<h3>Data Augmentation</h3>"
   ]
  },
  {
   "cell_type": "code",
   "execution_count": 10,
   "id": "71b752b7",
   "metadata": {},
   "outputs": [],
   "source": [
    "def noise(data):\n",
    "    noise_amp = 0.035*np.random.uniform()*np.amax(data)\n",
    "    data = data + noise_amp*np.random.normal(size=data.shape[0])\n",
    "    return data\n",
    "\n",
    "def stretch(data):\n",
    "    return librosa.effects.time_stretch(data, rate=0.8)\n",
    "\n",
    "def shift(data):\n",
    "    shift_range = int(np.random.uniform(low=-5, high = 5)*1000)\n",
    "    return np.roll(data, shift_range)\n",
    "\n",
    "def pitch(data, sampling_rate):\n",
    "    return librosa.effects.pitch_shift(data, sr=sampling_rate, n_steps=0.7)\n",
    "\n",
    "# taking any example and checking for techniques.\n",
    "path = np.array(df.path)[1]\n",
    "data, sample_rate = librosa.load(path)"
   ]
  },
  {
   "cell_type": "code",
   "execution_count": 11,
   "id": "cfcb6bca",
   "metadata": {},
   "outputs": [],
   "source": [
    "def extract_features(data):\n",
    "    # ZCR\n",
    "    result = np.array([])\n",
    "    zcr = librosa.feature.zero_crossing_rate(y=data)\n",
    "    result=np.hstack((result, np.squeeze(zcr))) # stacking horizontally\n",
    "\n",
    "    '''# Chroma_stft\n",
    "    stft = np.abs(librosa.stft(data))\n",
    "    chroma_stft = np.mean(librosa.feature.chroma_stft(S=stft, sr=sample_rate).T, axis=0)\n",
    "    result = np.hstack((result, chroma_stft)) # stacking horizontally'''\n",
    "    \n",
    "    # Root Mean Square Value\n",
    "    rms = librosa.feature.rms(y=data)\n",
    "    result = np.hstack((result, np.squeeze(rms))) # stacking horizontally\n",
    "\n",
    "    # MFCC\n",
    "    flatten:bool=True\n",
    "    mfcc = librosa.feature.mfcc(y=data, sr=sample_rate)\n",
    "    result = np.hstack((result, np.squeeze(mfcc.T)if not flatten else np.ravel(mfcc.T))) # stacking horizontally\n",
    "\n",
    "    '''# MelSpectogram\n",
    "    mel = np.mean(librosa.feature.melspectrogram(y=data, sr=sample_rate).T, axis=0)\n",
    "    result = np.hstack((result, mel)) # stacking horizontally'''\n",
    "    \n",
    "    return result\n",
    "\n",
    "def get_features(path):\n",
    "    # duration and offset are used to take care of the no audio in start and the ending of each audio files as seen above.\n",
    "    data, sample_rate = librosa.load(path, duration=2.5, offset=0.6)\n",
    "    \n",
    "    # without augmentation\n",
    "    res1 = extract_features(data)\n",
    "    result = np.array(res1)\n",
    "    \n",
    "    # data with noise\n",
    "    noise_data = noise(data)\n",
    "    res2 = extract_features(noise_data)\n",
    "    result = np.vstack((result, res2)) # stacking vertically\n",
    "    \n",
    "    # data with noise and pitching\n",
    "    new_data = pitch(data, sample_rate)\n",
    "    data_noise_pitch = noise(new_data)\n",
    "    res3 = extract_features(data_noise_pitch)\n",
    "    result = np.vstack((result, res3)) # stacking vertically\n",
    "    \n",
    "    return result"
   ]
  },
  {
   "cell_type": "code",
   "execution_count": 12,
   "id": "52a1ee13",
   "metadata": {},
   "outputs": [],
   "source": [
    "X, Y = [], []\n",
    "for path, emotion in zip(df.path, df.emotion):\n",
    "    feature = get_features(path)\n",
    "    for ele in feature:\n",
    "        X.append(ele)\n",
    "        # appending emotion 3 times as we have made 3 augmentation techniques on each audio file.\n",
    "        Y.append(emotion)"
   ]
  },
  {
   "cell_type": "code",
   "execution_count": 13,
   "id": "2e102e6f",
   "metadata": {},
   "outputs": [
    {
     "data": {
      "text/plain": [
       "(33954, 33954, (11318,))"
      ]
     },
     "execution_count": 13,
     "metadata": {},
     "output_type": "execute_result"
    }
   ],
   "source": [
    "len(X), len(Y), df.path.shape"
   ]
  },
  {
   "cell_type": "code",
   "execution_count": 14,
   "id": "35dfb953",
   "metadata": {},
   "outputs": [
    {
     "data": {
      "text/html": [
       "<div>\n",
       "<style scoped>\n",
       "    .dataframe tbody tr th:only-of-type {\n",
       "        vertical-align: middle;\n",
       "    }\n",
       "\n",
       "    .dataframe tbody tr th {\n",
       "        vertical-align: top;\n",
       "    }\n",
       "\n",
       "    .dataframe thead th {\n",
       "        text-align: right;\n",
       "    }\n",
       "</style>\n",
       "<table border=\"1\" class=\"dataframe\">\n",
       "  <thead>\n",
       "    <tr style=\"text-align: right;\">\n",
       "      <th></th>\n",
       "      <th>0</th>\n",
       "      <th>1</th>\n",
       "      <th>2</th>\n",
       "      <th>3</th>\n",
       "      <th>4</th>\n",
       "      <th>5</th>\n",
       "      <th>6</th>\n",
       "      <th>7</th>\n",
       "      <th>8</th>\n",
       "      <th>9</th>\n",
       "      <th>...</th>\n",
       "      <th>2367</th>\n",
       "      <th>2368</th>\n",
       "      <th>2369</th>\n",
       "      <th>2370</th>\n",
       "      <th>2371</th>\n",
       "      <th>2372</th>\n",
       "      <th>2373</th>\n",
       "      <th>2374</th>\n",
       "      <th>2375</th>\n",
       "      <th>Emotions</th>\n",
       "    </tr>\n",
       "  </thead>\n",
       "  <tbody>\n",
       "    <tr>\n",
       "      <th>0</th>\n",
       "      <td>0.173828</td>\n",
       "      <td>0.264648</td>\n",
       "      <td>0.372559</td>\n",
       "      <td>0.486328</td>\n",
       "      <td>0.625488</td>\n",
       "      <td>0.681152</td>\n",
       "      <td>0.720703</td>\n",
       "      <td>0.651855</td>\n",
       "      <td>0.562988</td>\n",
       "      <td>0.559082</td>\n",
       "      <td>...</td>\n",
       "      <td>0.766315</td>\n",
       "      <td>0.755441</td>\n",
       "      <td>0.743671</td>\n",
       "      <td>0.731043</td>\n",
       "      <td>0.717561</td>\n",
       "      <td>0.703260</td>\n",
       "      <td>0.688124</td>\n",
       "      <td>0.672208</td>\n",
       "      <td>0.655518</td>\n",
       "      <td>neutral</td>\n",
       "    </tr>\n",
       "    <tr>\n",
       "      <th>1</th>\n",
       "      <td>0.251953</td>\n",
       "      <td>0.376465</td>\n",
       "      <td>0.501465</td>\n",
       "      <td>0.509766</td>\n",
       "      <td>0.504395</td>\n",
       "      <td>0.502930</td>\n",
       "      <td>0.505371</td>\n",
       "      <td>0.504395</td>\n",
       "      <td>0.502441</td>\n",
       "      <td>0.506836</td>\n",
       "      <td>...</td>\n",
       "      <td>-0.330271</td>\n",
       "      <td>-2.718865</td>\n",
       "      <td>1.762054</td>\n",
       "      <td>-3.871066</td>\n",
       "      <td>-2.175155</td>\n",
       "      <td>1.841260</td>\n",
       "      <td>5.496709</td>\n",
       "      <td>-1.586014</td>\n",
       "      <td>-4.956050</td>\n",
       "      <td>neutral</td>\n",
       "    </tr>\n",
       "    <tr>\n",
       "      <th>2</th>\n",
       "      <td>0.256348</td>\n",
       "      <td>0.380859</td>\n",
       "      <td>0.500977</td>\n",
       "      <td>0.493652</td>\n",
       "      <td>0.496094</td>\n",
       "      <td>0.486328</td>\n",
       "      <td>0.481445</td>\n",
       "      <td>0.481934</td>\n",
       "      <td>0.487793</td>\n",
       "      <td>0.517090</td>\n",
       "      <td>...</td>\n",
       "      <td>-1.694306</td>\n",
       "      <td>2.172128</td>\n",
       "      <td>5.713744</td>\n",
       "      <td>-0.140552</td>\n",
       "      <td>-4.608919</td>\n",
       "      <td>-4.639028</td>\n",
       "      <td>-2.866230</td>\n",
       "      <td>-0.976971</td>\n",
       "      <td>4.385713</td>\n",
       "      <td>neutral</td>\n",
       "    </tr>\n",
       "    <tr>\n",
       "      <th>3</th>\n",
       "      <td>0.437500</td>\n",
       "      <td>0.659668</td>\n",
       "      <td>0.862305</td>\n",
       "      <td>0.878906</td>\n",
       "      <td>0.865234</td>\n",
       "      <td>0.847168</td>\n",
       "      <td>0.845703</td>\n",
       "      <td>0.827637</td>\n",
       "      <td>0.835938</td>\n",
       "      <td>0.667969</td>\n",
       "      <td>...</td>\n",
       "      <td>2.586421</td>\n",
       "      <td>2.746858</td>\n",
       "      <td>2.223282</td>\n",
       "      <td>0.986924</td>\n",
       "      <td>-0.730690</td>\n",
       "      <td>-2.530884</td>\n",
       "      <td>-4.002834</td>\n",
       "      <td>-4.849378</td>\n",
       "      <td>-4.929748</td>\n",
       "      <td>neutral</td>\n",
       "    </tr>\n",
       "    <tr>\n",
       "      <th>4</th>\n",
       "      <td>0.250488</td>\n",
       "      <td>0.374023</td>\n",
       "      <td>0.494629</td>\n",
       "      <td>0.494141</td>\n",
       "      <td>0.497070</td>\n",
       "      <td>0.491699</td>\n",
       "      <td>0.495117</td>\n",
       "      <td>0.493652</td>\n",
       "      <td>0.488770</td>\n",
       "      <td>0.501465</td>\n",
       "      <td>...</td>\n",
       "      <td>1.571891</td>\n",
       "      <td>2.683772</td>\n",
       "      <td>-2.007904</td>\n",
       "      <td>-4.547439</td>\n",
       "      <td>-0.289352</td>\n",
       "      <td>-1.490969</td>\n",
       "      <td>-2.137108</td>\n",
       "      <td>-4.964978</td>\n",
       "      <td>-2.453282</td>\n",
       "      <td>neutral</td>\n",
       "    </tr>\n",
       "  </tbody>\n",
       "</table>\n",
       "<p>5 rows × 2377 columns</p>\n",
       "</div>"
      ],
      "text/plain": [
       "          0         1         2         3         4         5         6  \\\n",
       "0  0.173828  0.264648  0.372559  0.486328  0.625488  0.681152  0.720703   \n",
       "1  0.251953  0.376465  0.501465  0.509766  0.504395  0.502930  0.505371   \n",
       "2  0.256348  0.380859  0.500977  0.493652  0.496094  0.486328  0.481445   \n",
       "3  0.437500  0.659668  0.862305  0.878906  0.865234  0.847168  0.845703   \n",
       "4  0.250488  0.374023  0.494629  0.494141  0.497070  0.491699  0.495117   \n",
       "\n",
       "          7         8         9  ...      2367      2368      2369      2370  \\\n",
       "0  0.651855  0.562988  0.559082  ...  0.766315  0.755441  0.743671  0.731043   \n",
       "1  0.504395  0.502441  0.506836  ... -0.330271 -2.718865  1.762054 -3.871066   \n",
       "2  0.481934  0.487793  0.517090  ... -1.694306  2.172128  5.713744 -0.140552   \n",
       "3  0.827637  0.835938  0.667969  ...  2.586421  2.746858  2.223282  0.986924   \n",
       "4  0.493652  0.488770  0.501465  ...  1.571891  2.683772 -2.007904 -4.547439   \n",
       "\n",
       "       2371      2372      2373      2374      2375  Emotions  \n",
       "0  0.717561  0.703260  0.688124  0.672208  0.655518   neutral  \n",
       "1 -2.175155  1.841260  5.496709 -1.586014 -4.956050   neutral  \n",
       "2 -4.608919 -4.639028 -2.866230 -0.976971  4.385713   neutral  \n",
       "3 -0.730690 -2.530884 -4.002834 -4.849378 -4.929748   neutral  \n",
       "4 -0.289352 -1.490969 -2.137108 -4.964978 -2.453282   neutral  \n",
       "\n",
       "[5 rows x 2377 columns]"
      ]
     },
     "execution_count": 14,
     "metadata": {},
     "output_type": "execute_result"
    }
   ],
   "source": [
    "# Creating a new dataframe with a column with the emotion names\n",
    "Emotions = pd.DataFrame(X)\n",
    "Emotions['Emotions'] = Y\n",
    "Emotions.to_csv('emotion.csv', index=False)\n",
    "Emotions.head()"
   ]
  },
  {
   "cell_type": "code",
   "execution_count": 15,
   "id": "37ad1557",
   "metadata": {},
   "outputs": [
    {
     "data": {
      "text/html": [
       "<div>\n",
       "<style scoped>\n",
       "    .dataframe tbody tr th:only-of-type {\n",
       "        vertical-align: middle;\n",
       "    }\n",
       "\n",
       "    .dataframe tbody tr th {\n",
       "        vertical-align: top;\n",
       "    }\n",
       "\n",
       "    .dataframe thead th {\n",
       "        text-align: right;\n",
       "    }\n",
       "</style>\n",
       "<table border=\"1\" class=\"dataframe\">\n",
       "  <thead>\n",
       "    <tr style=\"text-align: right;\">\n",
       "      <th></th>\n",
       "      <th>0</th>\n",
       "      <th>1</th>\n",
       "      <th>2</th>\n",
       "      <th>3</th>\n",
       "      <th>4</th>\n",
       "      <th>5</th>\n",
       "      <th>6</th>\n",
       "      <th>7</th>\n",
       "      <th>8</th>\n",
       "      <th>9</th>\n",
       "      <th>...</th>\n",
       "      <th>2367</th>\n",
       "      <th>2368</th>\n",
       "      <th>2369</th>\n",
       "      <th>2370</th>\n",
       "      <th>2371</th>\n",
       "      <th>2372</th>\n",
       "      <th>2373</th>\n",
       "      <th>2374</th>\n",
       "      <th>2375</th>\n",
       "      <th>Emotions</th>\n",
       "    </tr>\n",
       "  </thead>\n",
       "  <tbody>\n",
       "    <tr>\n",
       "      <th>0</th>\n",
       "      <td>0.173828</td>\n",
       "      <td>0.264648</td>\n",
       "      <td>0.372559</td>\n",
       "      <td>0.486328</td>\n",
       "      <td>0.625488</td>\n",
       "      <td>0.681152</td>\n",
       "      <td>0.720703</td>\n",
       "      <td>0.651855</td>\n",
       "      <td>0.562988</td>\n",
       "      <td>0.559082</td>\n",
       "      <td>...</td>\n",
       "      <td>0.766315</td>\n",
       "      <td>0.755441</td>\n",
       "      <td>0.743671</td>\n",
       "      <td>0.731043</td>\n",
       "      <td>0.717561</td>\n",
       "      <td>0.703260</td>\n",
       "      <td>0.688124</td>\n",
       "      <td>0.672208</td>\n",
       "      <td>0.655518</td>\n",
       "      <td>neutral</td>\n",
       "    </tr>\n",
       "    <tr>\n",
       "      <th>1</th>\n",
       "      <td>0.251953</td>\n",
       "      <td>0.376465</td>\n",
       "      <td>0.501465</td>\n",
       "      <td>0.509766</td>\n",
       "      <td>0.504395</td>\n",
       "      <td>0.502930</td>\n",
       "      <td>0.505371</td>\n",
       "      <td>0.504395</td>\n",
       "      <td>0.502441</td>\n",
       "      <td>0.506836</td>\n",
       "      <td>...</td>\n",
       "      <td>-0.330271</td>\n",
       "      <td>-2.718865</td>\n",
       "      <td>1.762054</td>\n",
       "      <td>-3.871066</td>\n",
       "      <td>-2.175155</td>\n",
       "      <td>1.841260</td>\n",
       "      <td>5.496709</td>\n",
       "      <td>-1.586014</td>\n",
       "      <td>-4.956050</td>\n",
       "      <td>neutral</td>\n",
       "    </tr>\n",
       "    <tr>\n",
       "      <th>2</th>\n",
       "      <td>0.256348</td>\n",
       "      <td>0.380859</td>\n",
       "      <td>0.500977</td>\n",
       "      <td>0.493652</td>\n",
       "      <td>0.496094</td>\n",
       "      <td>0.486328</td>\n",
       "      <td>0.481445</td>\n",
       "      <td>0.481934</td>\n",
       "      <td>0.487793</td>\n",
       "      <td>0.517090</td>\n",
       "      <td>...</td>\n",
       "      <td>-1.694306</td>\n",
       "      <td>2.172128</td>\n",
       "      <td>5.713744</td>\n",
       "      <td>-0.140552</td>\n",
       "      <td>-4.608919</td>\n",
       "      <td>-4.639028</td>\n",
       "      <td>-2.866230</td>\n",
       "      <td>-0.976971</td>\n",
       "      <td>4.385713</td>\n",
       "      <td>neutral</td>\n",
       "    </tr>\n",
       "    <tr>\n",
       "      <th>3</th>\n",
       "      <td>0.437500</td>\n",
       "      <td>0.659668</td>\n",
       "      <td>0.862305</td>\n",
       "      <td>0.878906</td>\n",
       "      <td>0.865234</td>\n",
       "      <td>0.847168</td>\n",
       "      <td>0.845703</td>\n",
       "      <td>0.827637</td>\n",
       "      <td>0.835938</td>\n",
       "      <td>0.667969</td>\n",
       "      <td>...</td>\n",
       "      <td>2.586421</td>\n",
       "      <td>2.746858</td>\n",
       "      <td>2.223282</td>\n",
       "      <td>0.986924</td>\n",
       "      <td>-0.730690</td>\n",
       "      <td>-2.530884</td>\n",
       "      <td>-4.002834</td>\n",
       "      <td>-4.849378</td>\n",
       "      <td>-4.929748</td>\n",
       "      <td>neutral</td>\n",
       "    </tr>\n",
       "    <tr>\n",
       "      <th>4</th>\n",
       "      <td>0.250488</td>\n",
       "      <td>0.374023</td>\n",
       "      <td>0.494629</td>\n",
       "      <td>0.494141</td>\n",
       "      <td>0.497070</td>\n",
       "      <td>0.491699</td>\n",
       "      <td>0.495117</td>\n",
       "      <td>0.493652</td>\n",
       "      <td>0.488770</td>\n",
       "      <td>0.501465</td>\n",
       "      <td>...</td>\n",
       "      <td>1.571891</td>\n",
       "      <td>2.683772</td>\n",
       "      <td>-2.007904</td>\n",
       "      <td>-4.547439</td>\n",
       "      <td>-0.289352</td>\n",
       "      <td>-1.490969</td>\n",
       "      <td>-2.137108</td>\n",
       "      <td>-4.964978</td>\n",
       "      <td>-2.453282</td>\n",
       "      <td>neutral</td>\n",
       "    </tr>\n",
       "  </tbody>\n",
       "</table>\n",
       "<p>5 rows × 2377 columns</p>\n",
       "</div>"
      ],
      "text/plain": [
       "          0         1         2         3         4         5         6  \\\n",
       "0  0.173828  0.264648  0.372559  0.486328  0.625488  0.681152  0.720703   \n",
       "1  0.251953  0.376465  0.501465  0.509766  0.504395  0.502930  0.505371   \n",
       "2  0.256348  0.380859  0.500977  0.493652  0.496094  0.486328  0.481445   \n",
       "3  0.437500  0.659668  0.862305  0.878906  0.865234  0.847168  0.845703   \n",
       "4  0.250488  0.374023  0.494629  0.494141  0.497070  0.491699  0.495117   \n",
       "\n",
       "          7         8         9  ...      2367      2368      2369      2370  \\\n",
       "0  0.651855  0.562988  0.559082  ...  0.766315  0.755441  0.743671  0.731043   \n",
       "1  0.504395  0.502441  0.506836  ... -0.330271 -2.718865  1.762054 -3.871066   \n",
       "2  0.481934  0.487793  0.517090  ... -1.694306  2.172128  5.713744 -0.140552   \n",
       "3  0.827637  0.835938  0.667969  ...  2.586421  2.746858  2.223282  0.986924   \n",
       "4  0.493652  0.488770  0.501465  ...  1.571891  2.683772 -2.007904 -4.547439   \n",
       "\n",
       "       2371      2372      2373      2374      2375  Emotions  \n",
       "0  0.717561  0.703260  0.688124  0.672208  0.655518   neutral  \n",
       "1 -2.175155  1.841260  5.496709 -1.586014 -4.956050   neutral  \n",
       "2 -4.608919 -4.639028 -2.866230 -0.976971  4.385713   neutral  \n",
       "3 -0.730690 -2.530884 -4.002834 -4.849378 -4.929748   neutral  \n",
       "4 -0.289352 -1.490969 -2.137108 -4.964978 -2.453282   neutral  \n",
       "\n",
       "[5 rows x 2377 columns]"
      ]
     },
     "execution_count": 15,
     "metadata": {},
     "output_type": "execute_result"
    }
   ],
   "source": [
    "Emotions = pd.read_csv('./emotion.csv')\n",
    "Emotions.head()"
   ]
  },
  {
   "cell_type": "code",
   "execution_count": 16,
   "id": "cdc3ce71",
   "metadata": {},
   "outputs": [
    {
     "name": "stdout",
     "output_type": "stream",
     "text": [
      "0           False\n",
      "1           False\n",
      "2           False\n",
      "3           False\n",
      "4           False\n",
      "            ...  \n",
      "2372         True\n",
      "2373         True\n",
      "2374         True\n",
      "2375         True\n",
      "Emotions    False\n",
      "Length: 2377, dtype: bool\n"
     ]
    }
   ],
   "source": [
    "print(Emotions.isna().any())"
   ]
  },
  {
   "cell_type": "code",
   "execution_count": 17,
   "id": "16f9c277",
   "metadata": {},
   "outputs": [
    {
     "name": "stdout",
     "output_type": "stream",
     "text": [
      "0           False\n",
      "1           False\n",
      "2           False\n",
      "3           False\n",
      "4           False\n",
      "            ...  \n",
      "2372        False\n",
      "2373        False\n",
      "2374        False\n",
      "2375        False\n",
      "Emotions    False\n",
      "Length: 2377, dtype: bool\n"
     ]
    },
    {
     "data": {
      "text/plain": [
       "(33954, 2377)"
      ]
     },
     "execution_count": 17,
     "metadata": {},
     "output_type": "execute_result"
    }
   ],
   "source": [
    "Emotions=Emotions.fillna(0)\n",
    "print(Emotions.isna().any())\n",
    "Emotions.shape"
   ]
  },
  {
   "cell_type": "code",
   "execution_count": 18,
   "id": "83cbed6a",
   "metadata": {},
   "outputs": [
    {
     "data": {
      "text/plain": [
       "0           0\n",
       "1           0\n",
       "2           0\n",
       "3           0\n",
       "4           0\n",
       "           ..\n",
       "2372        0\n",
       "2373        0\n",
       "2374        0\n",
       "2375        0\n",
       "Emotions    0\n",
       "Length: 2377, dtype: int64"
      ]
     },
     "execution_count": 18,
     "metadata": {},
     "output_type": "execute_result"
    }
   ],
   "source": [
    "np.sum(Emotions.isna())"
   ]
  },
  {
   "cell_type": "markdown",
   "id": "b044d1ab",
   "metadata": {},
   "source": [
    "<h3> Data Preparation </h3>"
   ]
  },
  {
   "cell_type": "code",
   "execution_count": 19,
   "id": "14cf7157",
   "metadata": {},
   "outputs": [],
   "source": [
    "# All rows and columns except the last column \n",
    "X = Emotions.iloc[: ,:-1].values\n",
    "# Only the last column which has the emotion names\n",
    "Y = Emotions['Emotions'].values"
   ]
  },
  {
   "cell_type": "code",
   "execution_count": 20,
   "id": "e11a0718",
   "metadata": {},
   "outputs": [],
   "source": [
    "# As this is a multiclass classification problem onehotencoding our Y\n",
    "from sklearn.preprocessing import StandardScaler, OneHotEncoder\n",
    "encoder = OneHotEncoder()\n",
    "Y = encoder.fit_transform(np.array(Y).reshape(-1,1)).toarray()"
   ]
  },
  {
   "cell_type": "code",
   "execution_count": 21,
   "id": "6b96eb8f",
   "metadata": {},
   "outputs": [
    {
     "name": "stdout",
     "output_type": "stream",
     "text": [
      "(33954, 6)\n"
     ]
    },
    {
     "data": {
      "text/plain": [
       "(33954, 2376)"
      ]
     },
     "execution_count": 21,
     "metadata": {},
     "output_type": "execute_result"
    }
   ],
   "source": [
    "print(Y.shape)\n",
    "X.shape"
   ]
  },
  {
   "cell_type": "code",
   "execution_count": 22,
   "id": "926c94c8",
   "metadata": {},
   "outputs": [
    {
     "data": {
      "text/plain": [
       "((27163, 2376), (27163, 6), (6791, 2376), (6791, 6))"
      ]
     },
     "execution_count": 22,
     "metadata": {},
     "output_type": "execute_result"
    }
   ],
   "source": [
    "# Splitting the data into train and test data using a 80/20 split\n",
    "from sklearn.model_selection import train_test_split\n",
    "\n",
    "x_train, x_test, y_train, y_test = train_test_split(X, Y, random_state=42,test_size=0.2, shuffle=True)\n",
    "x_train.shape, y_train.shape, x_test.shape, y_test.shape"
   ]
  },
  {
   "cell_type": "code",
   "execution_count": 23,
   "id": "28d13616",
   "metadata": {},
   "outputs": [],
   "source": [
    "# Reshaping the data for CNN\n",
    "X_train = x_train.reshape(x_train.shape[0] , x_train.shape[1] , 1)\n",
    "X_test = x_test.reshape(x_test.shape[0] , x_test.shape[1] , 1)"
   ]
  },
  {
   "cell_type": "code",
   "execution_count": 24,
   "id": "6cc89b1f",
   "metadata": {},
   "outputs": [
    {
     "data": {
      "text/plain": [
       "((27163, 2376), (27163, 6), (6791, 2376), (6791, 6))"
      ]
     },
     "execution_count": 24,
     "metadata": {},
     "output_type": "execute_result"
    }
   ],
   "source": [
    "# Scaling our data with sklearn's Standard Scaler\n",
    "scaler = StandardScaler()\n",
    "x_train = scaler.fit_transform(x_train)\n",
    "x_test = scaler.transform(x_test)\n",
    "x_train.shape, y_train.shape, x_test.shape, y_test.shape"
   ]
  },
  {
   "cell_type": "code",
   "execution_count": 25,
   "id": "78d2fa58",
   "metadata": {},
   "outputs": [],
   "source": [
    "import keras\n",
    "from keras.preprocessing import sequence\n",
    "from keras.models import Sequential\n",
    "from keras.layers import Dense, Embedding\n",
    "from keras.layers import LSTM,BatchNormalization , GRU\n",
    "from keras.preprocessing.text import Tokenizer\n",
    "from keras.utils import pad_sequences\n",
    "from tensorflow.keras.utils import to_categorical\n",
    "from keras.layers import Input, Flatten, Dropout, Activation\n",
    "from keras.layers import Conv1D, MaxPooling1D, AveragePooling1D\n",
    "from keras.models import Model\n",
    "from keras.callbacks import ModelCheckpoint\n",
    "from tensorflow.keras.optimizers import SGD"
   ]
  },
  {
   "cell_type": "code",
   "execution_count": 26,
   "id": "3d8181c1",
   "metadata": {},
   "outputs": [],
   "source": [
    "from keras.callbacks import ModelCheckpoint, EarlyStopping,ReduceLROnPlateau\n",
    "model_checkpoint = ModelCheckpoint('best_model1_weights.h5', monitor='val_accuracy', save_best_only=True)"
   ]
  },
  {
   "cell_type": "code",
   "execution_count": 27,
   "id": "568a91f5",
   "metadata": {},
   "outputs": [],
   "source": [
    "early_stop=EarlyStopping(monitor='val_accuracy',mode='auto',patience=5,restore_best_weights=True)\n",
    "lr_reduction=ReduceLROnPlateau(monitor='val_accuracy',patience=3,verbose=1,factor=0.5,min_lr=0.00001)"
   ]
  },
  {
   "cell_type": "code",
   "execution_count": 28,
   "id": "f3ff8fd5",
   "metadata": {},
   "outputs": [
    {
     "data": {
      "text/plain": [
       "((27163, 2376, 1), (27163, 6), (6791, 2376, 1), (6791, 6))"
      ]
     },
     "execution_count": 28,
     "metadata": {},
     "output_type": "execute_result"
    }
   ],
   "source": [
    "#Reshaping for the CNN model\n",
    "\n",
    "x_traincnn =np.expand_dims(x_train, axis=2)\n",
    "x_testcnn= np.expand_dims(x_test, axis=2)\n",
    "x_traincnn.shape, y_train.shape, x_testcnn.shape, y_test.shape\n",
    "#x_testcnn[0]"
   ]
  },
  {
   "cell_type": "code",
   "execution_count": 29,
   "id": "d950e0bf",
   "metadata": {},
   "outputs": [
    {
     "name": "stdout",
     "output_type": "stream",
     "text": [
      "Model: \"sequential\"\n",
      "_________________________________________________________________\n",
      " Layer (type)                Output Shape              Param #   \n",
      "=================================================================\n",
      " conv1d (Conv1D)             (None, 2376, 512)         3072      \n",
      "                                                                 \n",
      " batch_normalization (BatchN  (None, 2376, 512)        2048      \n",
      " ormalization)                                                   \n",
      "                                                                 \n",
      " max_pooling1d (MaxPooling1D  (None, 1188, 512)        0         \n",
      " )                                                               \n",
      "                                                                 \n",
      " conv1d_1 (Conv1D)           (None, 1188, 512)         1311232   \n",
      "                                                                 \n",
      " batch_normalization_1 (Batc  (None, 1188, 512)        2048      \n",
      " hNormalization)                                                 \n",
      "                                                                 \n",
      " max_pooling1d_1 (MaxPooling  (None, 594, 512)         0         \n",
      " 1D)                                                             \n",
      "                                                                 \n",
      " dropout (Dropout)           (None, 594, 512)          0         \n",
      "                                                                 \n",
      " conv1d_2 (Conv1D)           (None, 594, 256)          655616    \n",
      "                                                                 \n",
      " batch_normalization_2 (Batc  (None, 594, 256)         1024      \n",
      " hNormalization)                                                 \n",
      "                                                                 \n",
      " max_pooling1d_2 (MaxPooling  (None, 297, 256)         0         \n",
      " 1D)                                                             \n",
      "                                                                 \n",
      " conv1d_3 (Conv1D)           (None, 297, 256)          196864    \n",
      "                                                                 \n",
      " batch_normalization_3 (Batc  (None, 297, 256)         1024      \n",
      " hNormalization)                                                 \n",
      "                                                                 \n",
      " max_pooling1d_3 (MaxPooling  (None, 149, 256)         0         \n",
      " 1D)                                                             \n",
      "                                                                 \n",
      " dropout_1 (Dropout)         (None, 149, 256)          0         \n",
      "                                                                 \n",
      " conv1d_4 (Conv1D)           (None, 149, 128)          98432     \n",
      "                                                                 \n",
      " batch_normalization_4 (Batc  (None, 149, 128)         512       \n",
      " hNormalization)                                                 \n",
      "                                                                 \n",
      " max_pooling1d_4 (MaxPooling  (None, 75, 128)          0         \n",
      " 1D)                                                             \n",
      "                                                                 \n",
      " dropout_2 (Dropout)         (None, 75, 128)           0         \n",
      "                                                                 \n",
      " flatten (Flatten)           (None, 9600)              0         \n",
      "                                                                 \n",
      " dense (Dense)               (None, 512)               4915712   \n",
      "                                                                 \n",
      " batch_normalization_5 (Batc  (None, 512)              2048      \n",
      " hNormalization)                                                 \n",
      "                                                                 \n",
      " dense_1 (Dense)             (None, 6)                 3078      \n",
      "                                                                 \n",
      "=================================================================\n",
      "Total params: 7,192,710\n",
      "Trainable params: 7,188,358\n",
      "Non-trainable params: 4,352\n",
      "_________________________________________________________________\n"
     ]
    }
   ],
   "source": [
    "import tensorflow.keras.layers as L\n",
    "\n",
    "model = tf.keras.Sequential([\n",
    "    L.Conv1D(512,kernel_size=5, strides=1,padding='same', activation='relu',input_shape=(X_train.shape[1],1)),\n",
    "    L.BatchNormalization(),\n",
    "    L.MaxPool1D(pool_size=5,strides=2,padding='same'),\n",
    "    \n",
    "    L.Conv1D(512,kernel_size=5,strides=1,padding='same',activation='relu'),\n",
    "    L.BatchNormalization(),\n",
    "    L.MaxPool1D(pool_size=5,strides=2,padding='same'),\n",
    "    Dropout(0.2),  # Add dropout layer after the second max pooling layer\n",
    "    \n",
    "    L.Conv1D(256,kernel_size=5,strides=1,padding='same',activation='relu'),\n",
    "    L.BatchNormalization(),\n",
    "    L.MaxPool1D(pool_size=5,strides=2,padding='same'),\n",
    "    \n",
    "    L.Conv1D(256,kernel_size=3,strides=1,padding='same',activation='relu'),\n",
    "    L.BatchNormalization(),\n",
    "    L.MaxPool1D(pool_size=5,strides=2,padding='same'),\n",
    "    Dropout(0.2),  # Add dropout layer after the fourth max pooling layer\n",
    "    \n",
    "    L.Conv1D(128,kernel_size=3,strides=1,padding='same',activation='relu'),\n",
    "    L.BatchNormalization(),\n",
    "    L.MaxPool1D(pool_size=3,strides=2,padding='same'),\n",
    "    Dropout(0.2),  # Add dropout layer after the fifth max pooling layer\n",
    "    \n",
    "    L.Flatten(),\n",
    "    L.Dense(512,activation='relu'),\n",
    "    L.BatchNormalization(),\n",
    "    L.Dense(6,activation='softmax')\n",
    "])\n",
    "model.compile(optimizer='adam',loss='categorical_crossentropy',metrics='accuracy')\n",
    "model.summary()"
   ]
  },
  {
   "cell_type": "code",
   "execution_count": 30,
   "id": "c71badf1",
   "metadata": {
    "scrolled": true
   },
   "outputs": [
    {
     "name": "stdout",
     "output_type": "stream",
     "text": [
      "Epoch 1/50\n",
      "425/425 [==============================] - 2103s 5s/step - loss: 1.4406 - accuracy: 0.4402 - val_loss: 1.6262 - val_accuracy: 0.3568 - lr: 0.0010\n",
      "Epoch 2/50\n",
      "425/425 [==============================] - 1681s 4s/step - loss: 1.1637 - accuracy: 0.5450 - val_loss: 1.2028 - val_accuracy: 0.5356 - lr: 0.0010\n",
      "Epoch 3/50\n",
      "425/425 [==============================] - 1672s 4s/step - loss: 1.0516 - accuracy: 0.5869 - val_loss: 1.1126 - val_accuracy: 0.5750 - lr: 0.0010\n",
      "Epoch 4/50\n",
      "425/425 [==============================] - 1672s 4s/step - loss: 0.9693 - accuracy: 0.6204 - val_loss: 1.1614 - val_accuracy: 0.5528 - lr: 0.0010\n",
      "Epoch 5/50\n",
      "425/425 [==============================] - 1672s 4s/step - loss: 0.8856 - accuracy: 0.6593 - val_loss: 1.2859 - val_accuracy: 0.5400 - lr: 0.0010\n",
      "Epoch 6/50\n",
      "425/425 [==============================] - 1834s 4s/step - loss: 0.7927 - accuracy: 0.6976 - val_loss: 1.1739 - val_accuracy: 0.5793 - lr: 0.0010\n",
      "Epoch 7/50\n",
      "425/425 [==============================] - 2033s 5s/step - loss: 0.6850 - accuracy: 0.7436 - val_loss: 0.9780 - val_accuracy: 0.6473 - lr: 0.0010\n",
      "Epoch 8/50\n",
      "425/425 [==============================] - 1677s 4s/step - loss: 0.5712 - accuracy: 0.7892 - val_loss: 0.8378 - val_accuracy: 0.6984 - lr: 0.0010\n",
      "Epoch 9/50\n",
      "425/425 [==============================] - 1681s 4s/step - loss: 0.4639 - accuracy: 0.8304 - val_loss: 0.7112 - val_accuracy: 0.7520 - lr: 0.0010\n",
      "Epoch 10/50\n",
      "425/425 [==============================] - 1680s 4s/step - loss: 0.3473 - accuracy: 0.8774 - val_loss: 0.6296 - val_accuracy: 0.7807 - lr: 0.0010\n",
      "Epoch 11/50\n",
      "425/425 [==============================] - 2165s 5s/step - loss: 0.2720 - accuracy: 0.9039 - val_loss: 0.6375 - val_accuracy: 0.7860 - lr: 0.0010\n",
      "Epoch 12/50\n",
      "425/425 [==============================] - 1941s 5s/step - loss: 0.2221 - accuracy: 0.9245 - val_loss: 0.5924 - val_accuracy: 0.8008 - lr: 0.0010\n",
      "Epoch 13/50\n",
      "425/425 [==============================] - 1674s 4s/step - loss: 0.1519 - accuracy: 0.9495 - val_loss: 0.5234 - val_accuracy: 0.8365 - lr: 0.0010\n",
      "Epoch 14/50\n",
      "425/425 [==============================] - 2151s 5s/step - loss: 0.1389 - accuracy: 0.9529 - val_loss: 0.4584 - val_accuracy: 0.8639 - lr: 0.0010\n",
      "Epoch 15/50\n",
      "425/425 [==============================] - 2173s 5s/step - loss: 0.1097 - accuracy: 0.9637 - val_loss: 0.4508 - val_accuracy: 0.8619 - lr: 0.0010\n",
      "Epoch 16/50\n",
      "425/425 [==============================] - 1701s 4s/step - loss: 0.1041 - accuracy: 0.9648 - val_loss: 0.5772 - val_accuracy: 0.8418 - lr: 0.0010\n",
      "Epoch 17/50\n",
      "425/425 [==============================] - ETA: 0s - loss: 0.1198 - accuracy: 0.9595\n",
      "Epoch 17: ReduceLROnPlateau reducing learning rate to 0.0005000000237487257.\n",
      "425/425 [==============================] - 1757s 4s/step - loss: 0.1198 - accuracy: 0.9595 - val_loss: 0.5097 - val_accuracy: 0.8592 - lr: 0.0010\n",
      "Epoch 18/50\n",
      "425/425 [==============================] - 2252s 5s/step - loss: 0.0455 - accuracy: 0.9866 - val_loss: 0.2965 - val_accuracy: 0.9242 - lr: 5.0000e-04\n",
      "Epoch 19/50\n",
      "425/425 [==============================] - 1848s 4s/step - loss: 0.0259 - accuracy: 0.9938 - val_loss: 0.2752 - val_accuracy: 0.9281 - lr: 5.0000e-04\n",
      "Epoch 20/50\n",
      "425/425 [==============================] - 1675s 4s/step - loss: 0.0229 - accuracy: 0.9941 - val_loss: 0.2926 - val_accuracy: 0.9209 - lr: 5.0000e-04\n",
      "Epoch 21/50\n",
      "425/425 [==============================] - 1673s 4s/step - loss: 0.0256 - accuracy: 0.9933 - val_loss: 0.2727 - val_accuracy: 0.9280 - lr: 5.0000e-04\n",
      "Epoch 22/50\n",
      "425/425 [==============================] - ETA: 0s - loss: 0.0283 - accuracy: 0.9914\n",
      "Epoch 22: ReduceLROnPlateau reducing learning rate to 0.0002500000118743628.\n",
      "425/425 [==============================] - 1672s 4s/step - loss: 0.0283 - accuracy: 0.9914 - val_loss: 0.2748 - val_accuracy: 0.9271 - lr: 5.0000e-04\n",
      "Epoch 23/50\n",
      "425/425 [==============================] - 1673s 4s/step - loss: 0.0135 - accuracy: 0.9968 - val_loss: 0.2607 - val_accuracy: 0.9367 - lr: 2.5000e-04\n",
      "Epoch 24/50\n",
      "425/425 [==============================] - 1674s 4s/step - loss: 0.0098 - accuracy: 0.9981 - val_loss: 0.2608 - val_accuracy: 0.9384 - lr: 2.5000e-04\n",
      "Epoch 25/50\n",
      "425/425 [==============================] - 1669s 4s/step - loss: 0.0101 - accuracy: 0.9976 - val_loss: 0.2679 - val_accuracy: 0.9405 - lr: 2.5000e-04\n",
      "Epoch 26/50\n",
      "425/425 [==============================] - 1672s 4s/step - loss: 0.0082 - accuracy: 0.9983 - val_loss: 0.2864 - val_accuracy: 0.9330 - lr: 2.5000e-04\n",
      "Epoch 27/50\n",
      "425/425 [==============================] - 1671s 4s/step - loss: 0.0105 - accuracy: 0.9972 - val_loss: 0.2643 - val_accuracy: 0.9368 - lr: 2.5000e-04\n",
      "Epoch 28/50\n",
      "425/425 [==============================] - ETA: 0s - loss: 0.0076 - accuracy: 0.9987\n",
      "Epoch 28: ReduceLROnPlateau reducing learning rate to 0.0001250000059371814.\n",
      "425/425 [==============================] - 1681s 4s/step - loss: 0.0076 - accuracy: 0.9987 - val_loss: 0.2610 - val_accuracy: 0.9399 - lr: 2.5000e-04\n",
      "Epoch 29/50\n",
      "425/425 [==============================] - 1669s 4s/step - loss: 0.0059 - accuracy: 0.9990 - val_loss: 0.2530 - val_accuracy: 0.9423 - lr: 1.2500e-04\n",
      "Epoch 30/50\n",
      "425/425 [==============================] - 1671s 4s/step - loss: 0.0049 - accuracy: 0.9991 - val_loss: 0.2499 - val_accuracy: 0.9436 - lr: 1.2500e-04\n",
      "Epoch 31/50\n",
      "425/425 [==============================] - 1670s 4s/step - loss: 0.0044 - accuracy: 0.9992 - val_loss: 0.2504 - val_accuracy: 0.9427 - lr: 1.2500e-04\n",
      "Epoch 32/50\n",
      "425/425 [==============================] - 1672s 4s/step - loss: 0.0044 - accuracy: 0.9993 - val_loss: 0.2419 - val_accuracy: 0.9443 - lr: 1.2500e-04\n",
      "Epoch 33/50\n",
      "425/425 [==============================] - 1671s 4s/step - loss: 0.0045 - accuracy: 0.9992 - val_loss: 0.2644 - val_accuracy: 0.9414 - lr: 1.2500e-04\n",
      "Epoch 34/50\n",
      "425/425 [==============================] - 1675s 4s/step - loss: 0.0037 - accuracy: 0.9995 - val_loss: 0.2449 - val_accuracy: 0.9461 - lr: 1.2500e-04\n",
      "Epoch 35/50\n",
      "425/425 [==============================] - 1673s 4s/step - loss: 0.0041 - accuracy: 0.9993 - val_loss: 0.2541 - val_accuracy: 0.9435 - lr: 1.2500e-04\n",
      "Epoch 36/50\n",
      "425/425 [==============================] - 1674s 4s/step - loss: 0.0040 - accuracy: 0.9992 - val_loss: 0.2564 - val_accuracy: 0.9445 - lr: 1.2500e-04\n",
      "Epoch 37/50\n",
      "425/425 [==============================] - ETA: 0s - loss: 0.0036 - accuracy: 0.9994\n",
      "Epoch 37: ReduceLROnPlateau reducing learning rate to 6.25000029685907e-05.\n",
      "425/425 [==============================] - 1676s 4s/step - loss: 0.0036 - accuracy: 0.9994 - val_loss: 0.2513 - val_accuracy: 0.9446 - lr: 1.2500e-04\n",
      "Epoch 38/50\n",
      "425/425 [==============================] - 1904s 4s/step - loss: 0.0035 - accuracy: 0.9994 - val_loss: 0.2485 - val_accuracy: 0.9468 - lr: 6.2500e-05\n",
      "Epoch 39/50\n",
      "425/425 [==============================] - 2177s 5s/step - loss: 0.0031 - accuracy: 0.9994 - val_loss: 0.2404 - val_accuracy: 0.9476 - lr: 6.2500e-05\n",
      "Epoch 40/50\n",
      "425/425 [==============================] - 1892s 4s/step - loss: 0.0028 - accuracy: 0.9995 - val_loss: 0.2372 - val_accuracy: 0.9483 - lr: 6.2500e-05\n",
      "Epoch 41/50\n",
      "425/425 [==============================] - 1989s 5s/step - loss: 0.0025 - accuracy: 0.9995 - val_loss: 0.2391 - val_accuracy: 0.9480 - lr: 6.2500e-05\n",
      "Epoch 42/50\n",
      "425/425 [==============================] - 1983s 5s/step - loss: 0.0024 - accuracy: 0.9997 - val_loss: 0.2486 - val_accuracy: 0.9476 - lr: 6.2500e-05\n",
      "Epoch 43/50\n",
      "425/425 [==============================] - ETA: 0s - loss: 0.0025 - accuracy: 0.9994\n",
      "Epoch 43: ReduceLROnPlateau reducing learning rate to 3.125000148429535e-05.\n",
      "425/425 [==============================] - 1692s 4s/step - loss: 0.0025 - accuracy: 0.9994 - val_loss: 0.2439 - val_accuracy: 0.9470 - lr: 6.2500e-05\n",
      "Epoch 44/50\n",
      "425/425 [==============================] - 1676s 4s/step - loss: 0.0020 - accuracy: 0.9997 - val_loss: 0.2455 - val_accuracy: 0.9464 - lr: 3.1250e-05\n",
      "Epoch 45/50\n",
      "425/425 [==============================] - 1676s 4s/step - loss: 0.0021 - accuracy: 0.9997 - val_loss: 0.2548 - val_accuracy: 0.9463 - lr: 3.1250e-05\n"
     ]
    }
   ],
   "source": [
    "# Running the model\n",
    "history=model.fit(x_traincnn, y_train, epochs=50, validation_data=(x_testcnn, y_test), batch_size=64,callbacks=[early_stop,lr_reduction,model_checkpoint])"
   ]
  },
  {
   "cell_type": "code",
   "execution_count": 36,
   "id": "e564e363",
   "metadata": {},
   "outputs": [
    {
     "name": "stdout",
     "output_type": "stream",
     "text": [
      "213/213 [==============================] - 85s 397ms/step - loss: 0.2372 - accuracy: 0.9483\n",
      "Accuracy of our model on test data :  94.83139514923096 %\n"
     ]
    },
    {
     "data": {
      "image/png": "[encoded data removed]",
      "text/plain": [
       "<Figure size 1440x432 with 2 Axes>"
      ]
     },
     "metadata": {
      "needs_background": "light"
     },
     "output_type": "display_data"
    },
    {
     "ename": "AttributeError",
     "evalue": "module 'matplotlib' has no attribute 'pyplot'",
     "output_type": "error",
     "traceback": [
      "\u001b[1;31m---------------------------------------------------------------------------\u001b[0m",
      "\u001b[1;31mAttributeError\u001b[0m                            Traceback (most recent call last)",
      "\u001b[1;32m~\\AppData\\Local\\Temp\\ipykernel_17712\\4157871099.py\u001b[0m in \u001b[0;36m<module>\u001b[1;34m\u001b[0m\n\u001b[0;32m     22\u001b[0m \u001b[0max\u001b[0m\u001b[1;33m[\u001b[0m\u001b[1;36m1\u001b[0m\u001b[1;33m]\u001b[0m\u001b[1;33m.\u001b[0m\u001b[0mlegend\u001b[0m\u001b[1;33m(\u001b[0m\u001b[1;33m)\u001b[0m\u001b[1;33m\u001b[0m\u001b[1;33m\u001b[0m\u001b[0m\n\u001b[0;32m     23\u001b[0m \u001b[0max\u001b[0m\u001b[1;33m[\u001b[0m\u001b[1;36m1\u001b[0m\u001b[1;33m]\u001b[0m\u001b[1;33m.\u001b[0m\u001b[0mset_xlabel\u001b[0m\u001b[1;33m(\u001b[0m\u001b[1;34m\"Epochs\"\u001b[0m\u001b[1;33m)\u001b[0m\u001b[1;33m\u001b[0m\u001b[1;33m\u001b[0m\u001b[0m\n\u001b[1;32m---> 24\u001b[1;33m \u001b[0mplt\u001b[0m\u001b[1;33m.\u001b[0m\u001b[0mshow\u001b[0m\u001b[1;33m(\u001b[0m\u001b[1;33m)\u001b[0m\u001b[1;33m\u001b[0m\u001b[1;33m\u001b[0m\u001b[0m\n\u001b[0m",
      "\u001b[1;32mc:\\users\\siva\\appdata\\local\\programs\\python\\python37\\lib\\site-packages\\matplotlib\\pyplot.py\u001b[0m in \u001b[0;36mshow\u001b[1;34m(*args, **kwargs)\u001b[0m\n\u001b[0;32m    366\u001b[0m     \"\"\"\n\u001b[0;32m    367\u001b[0m     \u001b[0m_warn_if_gui_out_of_main_thread\u001b[0m\u001b[1;33m(\u001b[0m\u001b[1;33m)\u001b[0m\u001b[1;33m\u001b[0m\u001b[1;33m\u001b[0m\u001b[0m\n\u001b[1;32m--> 368\u001b[1;33m     \u001b[1;32mreturn\u001b[0m \u001b[0m_backend_mod\u001b[0m\u001b[1;33m.\u001b[0m\u001b[0mshow\u001b[0m\u001b[1;33m(\u001b[0m\u001b[1;33m*\u001b[0m\u001b[0margs\u001b[0m\u001b[1;33m,\u001b[0m \u001b[1;33m**\u001b[0m\u001b[0mkwargs\u001b[0m\u001b[1;33m)\u001b[0m\u001b[1;33m\u001b[0m\u001b[1;33m\u001b[0m\u001b[0m\n\u001b[0m\u001b[0;32m    369\u001b[0m \u001b[1;33m\u001b[0m\u001b[0m\n\u001b[0;32m    370\u001b[0m \u001b[1;33m\u001b[0m\u001b[0m\n",
      "\u001b[1;32mc:\\users\\siva\\appdata\\local\\programs\\python\\python37\\lib\\site-packages\\matplotlib_inline\\backend_inline.py\u001b[0m in \u001b[0;36mshow\u001b[1;34m(close, block)\u001b[0m\n\u001b[0;32m     48\u001b[0m         \u001b[1;31m# close triggers gc.collect, which can be slow\u001b[0m\u001b[1;33m\u001b[0m\u001b[1;33m\u001b[0m\u001b[1;33m\u001b[0m\u001b[0m\n\u001b[0;32m     49\u001b[0m         \u001b[1;32mif\u001b[0m \u001b[0mclose\u001b[0m \u001b[1;32mand\u001b[0m \u001b[0mGcf\u001b[0m\u001b[1;33m.\u001b[0m\u001b[0mget_all_fig_managers\u001b[0m\u001b[1;33m(\u001b[0m\u001b[1;33m)\u001b[0m\u001b[1;33m:\u001b[0m\u001b[1;33m\u001b[0m\u001b[1;33m\u001b[0m\u001b[0m\n\u001b[1;32m---> 50\u001b[1;33m             \u001b[0mmatplotlib\u001b[0m\u001b[1;33m.\u001b[0m\u001b[0mpyplot\u001b[0m\u001b[1;33m.\u001b[0m\u001b[0mclose\u001b[0m\u001b[1;33m(\u001b[0m\u001b[1;34m'all'\u001b[0m\u001b[1;33m)\u001b[0m\u001b[1;33m\u001b[0m\u001b[1;33m\u001b[0m\u001b[0m\n\u001b[0m\u001b[0;32m     51\u001b[0m \u001b[1;33m\u001b[0m\u001b[0m\n\u001b[0;32m     52\u001b[0m \u001b[1;33m\u001b[0m\u001b[0m\n",
      "\u001b[1;32mc:\\users\\siva\\appdata\\local\\programs\\python\\python37\\lib\\site-packages\\matplotlib\\_api\\__init__.py\u001b[0m in \u001b[0;36m__getattr__\u001b[1;34m(name)\u001b[0m\n\u001b[0;32m    221\u001b[0m             \u001b[1;32mreturn\u001b[0m \u001b[0mprops\u001b[0m\u001b[1;33m[\u001b[0m\u001b[0mname\u001b[0m\u001b[1;33m]\u001b[0m\u001b[1;33m.\u001b[0m\u001b[0m__get__\u001b[0m\u001b[1;33m(\u001b[0m\u001b[0minstance\u001b[0m\u001b[1;33m)\u001b[0m\u001b[1;33m\u001b[0m\u001b[1;33m\u001b[0m\u001b[0m\n\u001b[0;32m    222\u001b[0m         raise AttributeError(\n\u001b[1;32m--> 223\u001b[1;33m             f\"module {cls.__module__!r} has no attribute {name!r}\")\n\u001b[0m\u001b[0;32m    224\u001b[0m \u001b[1;33m\u001b[0m\u001b[0m\n\u001b[0;32m    225\u001b[0m     \u001b[1;32mreturn\u001b[0m \u001b[0m__getattr__\u001b[0m\u001b[1;33m\u001b[0m\u001b[1;33m\u001b[0m\u001b[0m\n",
      "\u001b[1;31mAttributeError\u001b[0m: module 'matplotlib' has no attribute 'pyplot'"
     ]
    },
    {
     "data": {
      "image/png": "[encoded data removed]",
      "text/plain": [
       "<Figure size 1440x432 with 2 Axes>"
      ]
     },
     "metadata": {
      "needs_background": "light"
     },
     "output_type": "display_data"
    },
    {
     "ename": "AttributeError",
     "evalue": "module 'matplotlib' has no attribute 'pyplot'",
     "output_type": "error",
     "traceback": [
      "\u001b[1;31m---------------------------------------------------------------------------\u001b[0m",
      "\u001b[1;31mAttributeError\u001b[0m                            Traceback (most recent call last)",
      "\u001b[1;32mc:\\users\\siva\\appdata\\local\\programs\\python\\python37\\lib\\site-packages\\matplotlib_inline\\backend_inline.py\u001b[0m in \u001b[0;36mshow\u001b[1;34m(close, block)\u001b[0m\n\u001b[0;32m     48\u001b[0m         \u001b[1;31m# close triggers gc.collect, which can be slow\u001b[0m\u001b[1;33m\u001b[0m\u001b[1;33m\u001b[0m\u001b[1;33m\u001b[0m\u001b[0m\n\u001b[0;32m     49\u001b[0m         \u001b[1;32mif\u001b[0m \u001b[0mclose\u001b[0m \u001b[1;32mand\u001b[0m \u001b[0mGcf\u001b[0m\u001b[1;33m.\u001b[0m\u001b[0mget_all_fig_managers\u001b[0m\u001b[1;33m(\u001b[0m\u001b[1;33m)\u001b[0m\u001b[1;33m:\u001b[0m\u001b[1;33m\u001b[0m\u001b[1;33m\u001b[0m\u001b[0m\n\u001b[1;32m---> 50\u001b[1;33m             \u001b[0mmatplotlib\u001b[0m\u001b[1;33m.\u001b[0m\u001b[0mpyplot\u001b[0m\u001b[1;33m.\u001b[0m\u001b[0mclose\u001b[0m\u001b[1;33m(\u001b[0m\u001b[1;34m'all'\u001b[0m\u001b[1;33m)\u001b[0m\u001b[1;33m\u001b[0m\u001b[1;33m\u001b[0m\u001b[0m\n\u001b[0m\u001b[0;32m     51\u001b[0m \u001b[1;33m\u001b[0m\u001b[0m\n\u001b[0;32m     52\u001b[0m \u001b[1;33m\u001b[0m\u001b[0m\n",
      "\u001b[1;32mc:\\users\\siva\\appdata\\local\\programs\\python\\python37\\lib\\site-packages\\matplotlib\\_api\\__init__.py\u001b[0m in \u001b[0;36m__getattr__\u001b[1;34m(name)\u001b[0m\n\u001b[0;32m    221\u001b[0m             \u001b[1;32mreturn\u001b[0m \u001b[0mprops\u001b[0m\u001b[1;33m[\u001b[0m\u001b[0mname\u001b[0m\u001b[1;33m]\u001b[0m\u001b[1;33m.\u001b[0m\u001b[0m__get__\u001b[0m\u001b[1;33m(\u001b[0m\u001b[0minstance\u001b[0m\u001b[1;33m)\u001b[0m\u001b[1;33m\u001b[0m\u001b[1;33m\u001b[0m\u001b[0m\n\u001b[0;32m    222\u001b[0m         raise AttributeError(\n\u001b[1;32m--> 223\u001b[1;33m             f\"module {cls.__module__!r} has no attribute {name!r}\")\n\u001b[0m\u001b[0;32m    224\u001b[0m \u001b[1;33m\u001b[0m\u001b[0m\n\u001b[0;32m    225\u001b[0m     \u001b[1;32mreturn\u001b[0m \u001b[0m__getattr__\u001b[0m\u001b[1;33m\u001b[0m\u001b[1;33m\u001b[0m\u001b[0m\n",
      "\u001b[1;31mAttributeError\u001b[0m: module 'matplotlib' has no attribute 'pyplot'"
     ]
    }
   ],
   "source": [
    "import matplotlib\n",
    "import matplotlib.pyplot as plt\n",
    "print(\"Accuracy of our model on test data : \" , model.evaluate(x_testcnn,y_test)[1]*100 , \"%\")\n",
    "\n",
    "epochs = [i for i in range(45)]\n",
    "fig , ax = plt.subplots(1,2)\n",
    "train_acc = history.history['accuracy']\n",
    "train_loss = history.history['loss']\n",
    "test_acc = history.history['val_accuracy']\n",
    "test_loss = history.history['val_loss']\n",
    "\n",
    "fig.set_size_inches(20,6)\n",
    "ax[0].plot(epochs , train_loss , label = 'Training Loss')\n",
    "ax[0].plot(epochs , test_loss , label = 'Testing Loss')\n",
    "ax[0].set_title('Training & Testing Loss')\n",
    "ax[0].legend()\n",
    "ax[0].set_xlabel(\"Epochs\")\n",
    "\n",
    "ax[1].plot(epochs , train_acc , label = 'Training Accuracy')\n",
    "ax[1].plot(epochs , test_acc , label = 'Testing Accuracy')\n",
    "ax[1].set_title('Training & Testing Accuracy')\n",
    "ax[1].legend()\n",
    "ax[1].set_xlabel(\"Epochs\")\n",
    "plt.show()"
   ]
  },
  {
   "cell_type": "code",
   "execution_count": 37,
   "id": "d5e5cb01",
   "metadata": {},
   "outputs": [],
   "source": [
    "plt.close('all')"
   ]
  },
  {
   "cell_type": "code",
   "execution_count": 38,
   "id": "516ecec8",
   "metadata": {},
   "outputs": [
    {
     "name": "stdout",
     "output_type": "stream",
     "text": [
      "213/213 [==============================] - 82s 386ms/step\n"
     ]
    },
    {
     "data": {
      "text/html": [
       "<div>\n",
       "<style scoped>\n",
       "    .dataframe tbody tr th:only-of-type {\n",
       "        vertical-align: middle;\n",
       "    }\n",
       "\n",
       "    .dataframe tbody tr th {\n",
       "        vertical-align: top;\n",
       "    }\n",
       "\n",
       "    .dataframe thead th {\n",
       "        text-align: right;\n",
       "    }\n",
       "</style>\n",
       "<table border=\"1\" class=\"dataframe\">\n",
       "  <thead>\n",
       "    <tr style=\"text-align: right;\">\n",
       "      <th></th>\n",
       "      <th>Predicted Labels</th>\n",
       "      <th>Actual Labels</th>\n",
       "    </tr>\n",
       "  </thead>\n",
       "  <tbody>\n",
       "    <tr>\n",
       "      <th>0</th>\n",
       "      <td>sad</td>\n",
       "      <td>sad</td>\n",
       "    </tr>\n",
       "    <tr>\n",
       "      <th>1</th>\n",
       "      <td>neutral</td>\n",
       "      <td>neutral</td>\n",
       "    </tr>\n",
       "    <tr>\n",
       "      <th>2</th>\n",
       "      <td>disgust</td>\n",
       "      <td>disgust</td>\n",
       "    </tr>\n",
       "    <tr>\n",
       "      <th>3</th>\n",
       "      <td>happy</td>\n",
       "      <td>happy</td>\n",
       "    </tr>\n",
       "    <tr>\n",
       "      <th>4</th>\n",
       "      <td>angry</td>\n",
       "      <td>angry</td>\n",
       "    </tr>\n",
       "    <tr>\n",
       "      <th>5</th>\n",
       "      <td>angry</td>\n",
       "      <td>angry</td>\n",
       "    </tr>\n",
       "    <tr>\n",
       "      <th>6</th>\n",
       "      <td>sad</td>\n",
       "      <td>sad</td>\n",
       "    </tr>\n",
       "    <tr>\n",
       "      <th>7</th>\n",
       "      <td>happy</td>\n",
       "      <td>happy</td>\n",
       "    </tr>\n",
       "    <tr>\n",
       "      <th>8</th>\n",
       "      <td>disgust</td>\n",
       "      <td>disgust</td>\n",
       "    </tr>\n",
       "    <tr>\n",
       "      <th>9</th>\n",
       "      <td>disgust</td>\n",
       "      <td>disgust</td>\n",
       "    </tr>\n",
       "  </tbody>\n",
       "</table>\n",
       "</div>"
      ],
      "text/plain": [
       "  Predicted Labels Actual Labels\n",
       "0              sad           sad\n",
       "1          neutral       neutral\n",
       "2          disgust       disgust\n",
       "3            happy         happy\n",
       "4            angry         angry\n",
       "5            angry         angry\n",
       "6              sad           sad\n",
       "7            happy         happy\n",
       "8          disgust       disgust\n",
       "9          disgust       disgust"
      ]
     },
     "execution_count": 38,
     "metadata": {},
     "output_type": "execute_result"
    }
   ],
   "source": [
    "# Predicting on Test Data\n",
    "pred_test0 = model.predict(x_testcnn)\n",
    "y_pred0 = encoder.inverse_transform(pred_test0)\n",
    "y_test0 = encoder.inverse_transform(y_test)\n",
    "\n",
    "# Check for random predictions\n",
    "df0 = pd.DataFrame(columns=['Predicted Labels', 'Actual Labels'])\n",
    "df0['Predicted Labels'] = y_pred0.flatten()\n",
    "df0['Actual Labels'] = y_test0.flatten()\n",
    "\n",
    "df0.head(10)"
   ]
  },
  {
   "cell_type": "code",
   "execution_count": 39,
   "id": "9eb08ff0",
   "metadata": {},
   "outputs": [
    {
     "data": {
      "image/png": "[encoded data removed]",
      "text/plain": [
       "<Figure size 864x720 with 2 Axes>"
      ]
     },
     "metadata": {
      "needs_background": "light"
     },
     "output_type": "display_data"
    },
    {
     "ename": "AttributeError",
     "evalue": "module 'matplotlib' has no attribute 'pyplot'",
     "output_type": "error",
     "traceback": [
      "\u001b[1;31m---------------------------------------------------------------------------\u001b[0m",
      "\u001b[1;31mAttributeError\u001b[0m                            Traceback (most recent call last)",
      "\u001b[1;32m~\\AppData\\Local\\Temp\\ipykernel_17712\\4070826277.py\u001b[0m in \u001b[0;36m<module>\u001b[1;34m\u001b[0m\n\u001b[0;32m     10\u001b[0m \u001b[0mplt\u001b[0m\u001b[1;33m.\u001b[0m\u001b[0mxlabel\u001b[0m\u001b[1;33m(\u001b[0m\u001b[1;34m'Predicted Labels'\u001b[0m\u001b[1;33m,\u001b[0m \u001b[0msize\u001b[0m\u001b[1;33m=\u001b[0m\u001b[1;36m14\u001b[0m\u001b[1;33m)\u001b[0m\u001b[1;33m\u001b[0m\u001b[1;33m\u001b[0m\u001b[0m\n\u001b[0;32m     11\u001b[0m \u001b[0mplt\u001b[0m\u001b[1;33m.\u001b[0m\u001b[0mylabel\u001b[0m\u001b[1;33m(\u001b[0m\u001b[1;34m'Actual Labels'\u001b[0m\u001b[1;33m,\u001b[0m \u001b[0msize\u001b[0m\u001b[1;33m=\u001b[0m\u001b[1;36m14\u001b[0m\u001b[1;33m)\u001b[0m\u001b[1;33m\u001b[0m\u001b[1;33m\u001b[0m\u001b[0m\n\u001b[1;32m---> 12\u001b[1;33m \u001b[0mplt\u001b[0m\u001b[1;33m.\u001b[0m\u001b[0mshow\u001b[0m\u001b[1;33m(\u001b[0m\u001b[1;33m)\u001b[0m\u001b[1;33m\u001b[0m\u001b[1;33m\u001b[0m\u001b[0m\n\u001b[0m\u001b[0;32m     13\u001b[0m \u001b[0mprint\u001b[0m\u001b[1;33m(\u001b[0m\u001b[0mclassification_report\u001b[0m\u001b[1;33m(\u001b[0m\u001b[0my_test0\u001b[0m\u001b[1;33m,\u001b[0m \u001b[0my_pred0\u001b[0m\u001b[1;33m)\u001b[0m\u001b[1;33m)\u001b[0m\u001b[1;33m\u001b[0m\u001b[1;33m\u001b[0m\u001b[0m\n",
      "\u001b[1;32mc:\\users\\siva\\appdata\\local\\programs\\python\\python37\\lib\\site-packages\\matplotlib\\pyplot.py\u001b[0m in \u001b[0;36mshow\u001b[1;34m(*args, **kwargs)\u001b[0m\n\u001b[0;32m    366\u001b[0m     \"\"\"\n\u001b[0;32m    367\u001b[0m     \u001b[0m_warn_if_gui_out_of_main_thread\u001b[0m\u001b[1;33m(\u001b[0m\u001b[1;33m)\u001b[0m\u001b[1;33m\u001b[0m\u001b[1;33m\u001b[0m\u001b[0m\n\u001b[1;32m--> 368\u001b[1;33m     \u001b[1;32mreturn\u001b[0m \u001b[0m_backend_mod\u001b[0m\u001b[1;33m.\u001b[0m\u001b[0mshow\u001b[0m\u001b[1;33m(\u001b[0m\u001b[1;33m*\u001b[0m\u001b[0margs\u001b[0m\u001b[1;33m,\u001b[0m \u001b[1;33m**\u001b[0m\u001b[0mkwargs\u001b[0m\u001b[1;33m)\u001b[0m\u001b[1;33m\u001b[0m\u001b[1;33m\u001b[0m\u001b[0m\n\u001b[0m\u001b[0;32m    369\u001b[0m \u001b[1;33m\u001b[0m\u001b[0m\n\u001b[0;32m    370\u001b[0m \u001b[1;33m\u001b[0m\u001b[0m\n",
      "\u001b[1;32mc:\\users\\siva\\appdata\\local\\programs\\python\\python37\\lib\\site-packages\\matplotlib_inline\\backend_inline.py\u001b[0m in \u001b[0;36mshow\u001b[1;34m(close, block)\u001b[0m\n\u001b[0;32m     48\u001b[0m         \u001b[1;31m# close triggers gc.collect, which can be slow\u001b[0m\u001b[1;33m\u001b[0m\u001b[1;33m\u001b[0m\u001b[1;33m\u001b[0m\u001b[0m\n\u001b[0;32m     49\u001b[0m         \u001b[1;32mif\u001b[0m \u001b[0mclose\u001b[0m \u001b[1;32mand\u001b[0m \u001b[0mGcf\u001b[0m\u001b[1;33m.\u001b[0m\u001b[0mget_all_fig_managers\u001b[0m\u001b[1;33m(\u001b[0m\u001b[1;33m)\u001b[0m\u001b[1;33m:\u001b[0m\u001b[1;33m\u001b[0m\u001b[1;33m\u001b[0m\u001b[0m\n\u001b[1;32m---> 50\u001b[1;33m             \u001b[0mmatplotlib\u001b[0m\u001b[1;33m.\u001b[0m\u001b[0mpyplot\u001b[0m\u001b[1;33m.\u001b[0m\u001b[0mclose\u001b[0m\u001b[1;33m(\u001b[0m\u001b[1;34m'all'\u001b[0m\u001b[1;33m)\u001b[0m\u001b[1;33m\u001b[0m\u001b[1;33m\u001b[0m\u001b[0m\n\u001b[0m\u001b[0;32m     51\u001b[0m \u001b[1;33m\u001b[0m\u001b[0m\n\u001b[0;32m     52\u001b[0m \u001b[1;33m\u001b[0m\u001b[0m\n",
      "\u001b[1;32mc:\\users\\siva\\appdata\\local\\programs\\python\\python37\\lib\\site-packages\\matplotlib\\_api\\__init__.py\u001b[0m in \u001b[0;36m__getattr__\u001b[1;34m(name)\u001b[0m\n\u001b[0;32m    221\u001b[0m             \u001b[1;32mreturn\u001b[0m \u001b[0mprops\u001b[0m\u001b[1;33m[\u001b[0m\u001b[0mname\u001b[0m\u001b[1;33m]\u001b[0m\u001b[1;33m.\u001b[0m\u001b[0m__get__\u001b[0m\u001b[1;33m(\u001b[0m\u001b[0minstance\u001b[0m\u001b[1;33m)\u001b[0m\u001b[1;33m\u001b[0m\u001b[1;33m\u001b[0m\u001b[0m\n\u001b[0;32m    222\u001b[0m         raise AttributeError(\n\u001b[1;32m--> 223\u001b[1;33m             f\"module {cls.__module__!r} has no attribute {name!r}\")\n\u001b[0m\u001b[0;32m    224\u001b[0m \u001b[1;33m\u001b[0m\u001b[0m\n\u001b[0;32m    225\u001b[0m     \u001b[1;32mreturn\u001b[0m \u001b[0m__getattr__\u001b[0m\u001b[1;33m\u001b[0m\u001b[1;33m\u001b[0m\u001b[0m\n",
      "\u001b[1;31mAttributeError\u001b[0m: module 'matplotlib' has no attribute 'pyplot'"
     ]
    },
    {
     "data": {
      "image/png": "[encoded data removed]",
      "text/plain": [
       "<Figure size 864x720 with 2 Axes>"
      ]
     },
     "metadata": {
      "needs_background": "light"
     },
     "output_type": "display_data"
    },
    {
     "ename": "AttributeError",
     "evalue": "module 'matplotlib' has no attribute 'pyplot'",
     "output_type": "error",
     "traceback": [
      "\u001b[1;31m---------------------------------------------------------------------------\u001b[0m",
      "\u001b[1;31mAttributeError\u001b[0m                            Traceback (most recent call last)",
      "\u001b[1;32mc:\\users\\siva\\appdata\\local\\programs\\python\\python37\\lib\\site-packages\\matplotlib_inline\\backend_inline.py\u001b[0m in \u001b[0;36mshow\u001b[1;34m(close, block)\u001b[0m\n\u001b[0;32m     48\u001b[0m         \u001b[1;31m# close triggers gc.collect, which can be slow\u001b[0m\u001b[1;33m\u001b[0m\u001b[1;33m\u001b[0m\u001b[1;33m\u001b[0m\u001b[0m\n\u001b[0;32m     49\u001b[0m         \u001b[1;32mif\u001b[0m \u001b[0mclose\u001b[0m \u001b[1;32mand\u001b[0m \u001b[0mGcf\u001b[0m\u001b[1;33m.\u001b[0m\u001b[0mget_all_fig_managers\u001b[0m\u001b[1;33m(\u001b[0m\u001b[1;33m)\u001b[0m\u001b[1;33m:\u001b[0m\u001b[1;33m\u001b[0m\u001b[1;33m\u001b[0m\u001b[0m\n\u001b[1;32m---> 50\u001b[1;33m             \u001b[0mmatplotlib\u001b[0m\u001b[1;33m.\u001b[0m\u001b[0mpyplot\u001b[0m\u001b[1;33m.\u001b[0m\u001b[0mclose\u001b[0m\u001b[1;33m(\u001b[0m\u001b[1;34m'all'\u001b[0m\u001b[1;33m)\u001b[0m\u001b[1;33m\u001b[0m\u001b[1;33m\u001b[0m\u001b[0m\n\u001b[0m\u001b[0;32m     51\u001b[0m \u001b[1;33m\u001b[0m\u001b[0m\n\u001b[0;32m     52\u001b[0m \u001b[1;33m\u001b[0m\u001b[0m\n",
      "\u001b[1;32mc:\\users\\siva\\appdata\\local\\programs\\python\\python37\\lib\\site-packages\\matplotlib\\_api\\__init__.py\u001b[0m in \u001b[0;36m__getattr__\u001b[1;34m(name)\u001b[0m\n\u001b[0;32m    221\u001b[0m             \u001b[1;32mreturn\u001b[0m \u001b[0mprops\u001b[0m\u001b[1;33m[\u001b[0m\u001b[0mname\u001b[0m\u001b[1;33m]\u001b[0m\u001b[1;33m.\u001b[0m\u001b[0m__get__\u001b[0m\u001b[1;33m(\u001b[0m\u001b[0minstance\u001b[0m\u001b[1;33m)\u001b[0m\u001b[1;33m\u001b[0m\u001b[1;33m\u001b[0m\u001b[0m\n\u001b[0;32m    222\u001b[0m         raise AttributeError(\n\u001b[1;32m--> 223\u001b[1;33m             f\"module {cls.__module__!r} has no attribute {name!r}\")\n\u001b[0m\u001b[0;32m    224\u001b[0m \u001b[1;33m\u001b[0m\u001b[0m\n\u001b[0;32m    225\u001b[0m     \u001b[1;32mreturn\u001b[0m \u001b[0m__getattr__\u001b[0m\u001b[1;33m\u001b[0m\u001b[1;33m\u001b[0m\u001b[0m\n",
      "\u001b[1;31mAttributeError\u001b[0m: module 'matplotlib' has no attribute 'pyplot'"
     ]
    }
   ],
   "source": [
    "import matplotlib\n",
    "import matplotlib.pyplot as plt\n",
    "from sklearn.metrics import confusion_matrix,classification_report\n",
    "cm = confusion_matrix(y_test0, y_pred0)\n",
    "plt.figure(figsize = (12, 10))\n",
    "cm = pd.DataFrame(cm , index = [i for i in encoder.categories_] , columns = [i for i in encoder.categories_])\n",
    "#cm = cm.astype('float') / cm.sum(axis=1)[:, np.newaxis]\n",
    "sns.heatmap(cm, linecolor='white', cmap='Blues', linewidth=1, annot=True, fmt='.2f')\n",
    "plt.title('Confusion Matrix', size=20)\n",
    "plt.xlabel('Predicted Labels', size=14)\n",
    "plt.ylabel('Actual Labels', size=14)\n",
    "plt.show()\n",
    "print(classification_report(y_test0, y_pred0))"
   ]
  },
  {
   "cell_type": "code",
   "execution_count": 40,
   "id": "02f651a3",
   "metadata": {},
   "outputs": [],
   "source": [
    "plt.close('all')"
   ]
  },
  {
   "cell_type": "code",
   "execution_count": 41,
   "id": "d685701f",
   "metadata": {},
   "outputs": [
    {
     "name": "stdout",
     "output_type": "stream",
     "text": [
      "              precision    recall  f1-score   support\n",
      "\n",
      "       angry       0.97      0.95      0.96      1174\n",
      "     disgust       0.93      0.95      0.94      1130\n",
      "        fear       0.93      0.94      0.93      1131\n",
      "       happy       0.95      0.94      0.95      1159\n",
      "     neutral       0.96      0.96      0.96      1025\n",
      "         sad       0.96      0.95      0.95      1172\n",
      "\n",
      "    accuracy                           0.95      6791\n",
      "   macro avg       0.95      0.95      0.95      6791\n",
      "weighted avg       0.95      0.95      0.95      6791\n",
      "\n"
     ]
    }
   ],
   "source": [
    "from sklearn.metrics import confusion_matrix,classification_report\n",
    "print(classification_report(y_test0, y_pred0))"
   ]
  },
  {
   "cell_type": "markdown",
   "id": "38d7aec3",
   "metadata": {},
   "source": [
    "<h3> Saving the Model </h3>"
   ]
  },
  {
   "cell_type": "code",
   "execution_count": 42,
   "id": "fc0660bd",
   "metadata": {},
   "outputs": [
    {
     "name": "stdout",
     "output_type": "stream",
     "text": [
      "Saved model to disk\n"
     ]
    }
   ],
   "source": [
    "# Saving the model for future runs\n",
    "from tensorflow.keras.models import Sequential, model_from_json\n",
    "model_json = model.to_json()\n",
    "with open(\"CNN_model.json\", \"w\") as json_file:\n",
    "    json_file.write(model_json)\n",
    "# serialize weights to HDF5\n",
    "model.save_weights(\"CNN_model_weights.h5\")\n",
    "print(\"Saved model to disk\") \n"
   ]
  },
  {
   "cell_type": "code",
   "execution_count": 43,
   "id": "7e0b5c08",
   "metadata": {},
   "outputs": [
    {
     "name": "stdout",
     "output_type": "stream",
     "text": [
      "Loaded model from disk\n"
     ]
    }
   ],
   "source": [
    "# Retrieve the saved model from disk\n",
    "from tensorflow.keras.models import Sequential, model_from_json\n",
    "json_file = open('CNN_model.json', 'r')\n",
    "loaded_model_json = json_file.read()\n",
    "json_file.close()\n",
    "loaded_model = model_from_json(loaded_model_json)\n",
    "# load weights into new model\n",
    "loaded_model.load_weights(\"best_model1_weights.h5\")\n",
    "print(\"Loaded model from disk\")"
   ]
  },
  {
   "cell_type": "code",
   "execution_count": 44,
   "id": "dbb36261",
   "metadata": {},
   "outputs": [
    {
     "name": "stdout",
     "output_type": "stream",
     "text": [
      "213/213 [==============================] - 83s 386ms/step - loss: 0.2372 - accuracy: 0.9483\n",
      "accuracy: 94.83%\n"
     ]
    }
   ],
   "source": [
    "loaded_model.compile(optimizer='adam', loss='categorical_crossentropy', metrics=['accuracy'])\n",
    "score = loaded_model.evaluate(x_testcnn,y_test)\n",
    "print(\"%s: %.2f%%\" % (loaded_model.metrics_names[1], score[1]*100))"
   ]
  },
  {
   "cell_type": "code",
   "execution_count": 45,
   "id": "2e113a25",
   "metadata": {},
   "outputs": [
    {
     "name": "stdout",
     "output_type": "stream",
     "text": [
      "Done\n"
     ]
    }
   ],
   "source": [
    "import pickle\n",
    "\n",
    "# Saving scaler\n",
    "with open('scaler2.pickle', 'wb') as f:\n",
    "    pickle.dump(scaler, f)\n",
    "\n",
    "# Loading scaler\n",
    "with open('scaler2.pickle', 'rb') as f:\n",
    "    scaler2 = pickle.load(f)\n",
    "\n",
    "# Saving encoder\n",
    "with open('encoder2.pickle', 'wb') as f:\n",
    "    pickle.dump(encoder, f)\n",
    "\n",
    "# Loading encoder\n",
    "with open('encoder2.pickle', 'rb') as f:\n",
    "    encoder2 = pickle.load(f)\n",
    "\n",
    "    \n",
    "print(\"Done\")    "
   ]
  },
  {
   "cell_type": "markdown",
   "id": "ac385232",
   "metadata": {},
   "source": [
    "<h3> Model Validation</h3>"
   ]
  },
  {
   "cell_type": "code",
   "execution_count": 46,
   "id": "898e4dfa",
   "metadata": {},
   "outputs": [],
   "source": [
    "import librosa"
   ]
  },
  {
   "cell_type": "code",
   "execution_count": 47,
   "id": "9de7b86f",
   "metadata": {},
   "outputs": [],
   "source": [
    "def extract_features(data):\n",
    "    # ZCR\n",
    "    result = np.array([])\n",
    "    zcr = librosa.feature.zero_crossing_rate(y=data)\n",
    "    result=np.hstack((result, np.squeeze(zcr))) # stacking horizontally\n",
    "\n",
    "    '''# Chroma_stft\n",
    "    stft = np.abs(librosa.stft(data))\n",
    "    chroma_stft = np.mean(librosa.feature.chroma_stft(S=stft, sr=sample_rate).T, axis=0)\n",
    "    result = np.hstack((result, chroma_stft)) # stacking horizontally'''\n",
    "    \n",
    "    # Root Mean Square Value\n",
    "    rms = librosa.feature.rms(y=data)\n",
    "    result = np.hstack((result, np.squeeze(rms))) # stacking horizontally\n",
    "\n",
    "    # MFCC\n",
    "    flatten:bool=True\n",
    "    mfcc = librosa.feature.mfcc(y=data, sr=sample_rate)\n",
    "    result = np.hstack((result, np.squeeze(mfcc.T)if not flatten else np.ravel(mfcc.T))) # stacking horizontally\n",
    "\n",
    "    '''# MelSpectogram\n",
    "    mel = np.mean(librosa.feature.melspectrogram(y=data, sr=sample_rate).T, axis=0)\n",
    "    result = np.hstack((result, mel)) # stacking horizontally'''\n",
    "    \n",
    "    return result"
   ]
  },
  {
   "cell_type": "code",
   "execution_count": 48,
   "id": "54696cd3",
   "metadata": {},
   "outputs": [],
   "source": [
    "def get_predict_feat(path):\n",
    "    d, s_rate= librosa.load(path, duration=2.5, offset=0.6)\n",
    "    res=extract_features(d)\n",
    "    result=np.array(res)\n",
    "    result=np.reshape(result,newshape=(1,2376))\n",
    "    i_result = scaler2.transform(result)\n",
    "    final_result=np.expand_dims(i_result, axis=2)\n",
    "    \n",
    "    return final_result"
   ]
  },
  {
   "cell_type": "code",
   "execution_count": 49,
   "id": "10815e8d",
   "metadata": {},
   "outputs": [
    {
     "name": "stdout",
     "output_type": "stream",
     "text": [
      "(1, 2376, 1)\n"
     ]
    }
   ],
   "source": [
    "res=get_predict_feat(\"ravdess-emotional-speech-audio/audio_speech_actors_01-24/03-01-07-01-01-01-01.wav\")\n",
    "print(res.shape)"
   ]
  },
  {
   "cell_type": "code",
   "execution_count": 50,
   "id": "b8dc0c8c",
   "metadata": {},
   "outputs": [],
   "source": [
    "emotions1={1:'Neutral', 2:'Happy', 3:'Sad', 4:'Angry', 5:'Fear', 6:'Disgust'}\n",
    "def prediction(path1):\n",
    "    res=get_predict_feat(path1)\n",
    "    predictions=loaded_model.predict(res)\n",
    "    y_pred = encoder2.inverse_transform(predictions)\n",
    "    print(y_pred[0][0])    "
   ]
  },
  {
   "cell_type": "markdown",
   "id": "02faf6cb",
   "metadata": {},
   "source": [
    "<h3> Testing with own audio </h3>"
   ]
  },
  {
   "cell_type": "code",
   "execution_count": 56,
   "id": "90ca6b03",
   "metadata": {
    "scrolled": false
   },
   "outputs": [
    {
     "name": "stdout",
     "output_type": "stream",
     "text": [
      "1/1 [==============================] - 0s 32ms/step\n",
      "angry\n"
     ]
    }
   ],
   "source": [
    "prediction(\"Sivaprasad_Angry.wav\")"
   ]
  },
  {
   "cell_type": "code",
   "execution_count": 59,
   "id": "1a69a593",
   "metadata": {},
   "outputs": [
    {
     "name": "stdout",
     "output_type": "stream",
     "text": [
      "1/1 [==============================] - 0s 33ms/step\n",
      "fear\n"
     ]
    }
   ],
   "source": [
    "prediction(\"Sivaprasad_Fear.wav\")"
   ]
  },
  {
   "cell_type": "code",
   "execution_count": 64,
   "id": "063bf0b2",
   "metadata": {},
   "outputs": [
    {
     "name": "stdout",
     "output_type": "stream",
     "text": [
      "1/1 [==============================] - 0s 47ms/step\n",
      "happy\n"
     ]
    }
   ],
   "source": [
    "prediction(\"Sivaprasad_Happy.wav\")"
   ]
  }
 ],
 "metadata": {
  "kernelspec": {
   "display_name": "Python 3 (ipykernel)",
   "language": "python",
   "name": "python3"
  },
  "language_info": {
   "codemirror_mode": {
    "name": "ipython",
    "version": 3
   },
   "file_extension": ".py",
   "mimetype": "text/x-python",
   "name": "python",
   "nbconvert_exporter": "python",
   "pygments_lexer": "ipython3",
   "version": "3.7.9"
  }
 },
 "nbformat": 4,
 "nbformat_minor": 5
}
